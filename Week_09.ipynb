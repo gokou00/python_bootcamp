{
 "cells": [
  {
   "cell_type": "markdown",
   "metadata": {},
   "source": [
    "# Generators and Iterators"
   ]
  },
  {
   "cell_type": "code",
   "execution_count": 2,
   "metadata": {},
   "outputs": [
    {
     "name": "stdout",
     "output_type": "stream",
     "text": [
      "baseball\n",
      "soccer\n",
      "football\n",
      "hockey\n",
      "basketball\n"
     ]
    }
   ],
   "source": [
    "# creating a basic iterator from a iterable\n",
    "\n",
    "sports = [\"baseball\",\"soccer\",\"football\",\"hockey\",\"basketball\"]\n",
    "my_iter = iter(sports)\n",
    "print(next(my_iter))\n",
    "print(next(my_iter))\n",
    "\n",
    "for item in my_iter:\n",
    "    print(item)\n",
    "#print(next(my_iter)) this will produce an error"
   ]
  },
  {
   "cell_type": "code",
   "execution_count": 3,
   "metadata": {},
   "outputs": [
    {
     "name": "stdout",
     "output_type": "stream",
     "text": [
      "a\n",
      "b\n",
      "c\n",
      "d\n",
      "e\n",
      "f\n",
      "g\n",
      "h\n",
      "i\n",
      "j\n",
      "k\n",
      "l\n",
      "m\n",
      "n\n",
      "o\n",
      "p\n",
      "q\n",
      "r\n",
      "s\n",
      "t\n",
      "u\n",
      "v\n",
      "w\n",
      "x\n",
      "y\n",
      "z\n"
     ]
    }
   ],
   "source": [
    "# creating our own iterator\n",
    "\n",
    "class Alphabet():\n",
    "    def __iter__(self):\n",
    "        self.letters = \"abcdefghijklmnopqrstuvwxyz\"\n",
    "        self.index = 0\n",
    "        return self\n",
    "    def __next__(self):\n",
    "        if self.index <= 25:\n",
    "            char = self.letters[self.index]\n",
    "            self.index += 1\n",
    "            return char\n",
    "        else:\n",
    "            raise StopIteration\n",
    "\n",
    "for char in Alphabet():\n",
    "    print(char)"
   ]
  },
  {
   "cell_type": "code",
   "execution_count": 4,
   "metadata": {},
   "outputs": [
    {
     "name": "stdout",
     "output_type": "stream",
     "text": [
      "Generator Start Value: 0\n",
      "For Loop X Value\n",
      "Generator Start Value: 1\n",
      "For Loop X Value\n",
      "Generator Start Value: 2\n",
      "For Loop X Value\n",
      "Generator Start Value: 3\n",
      "For Loop X Value\n",
      "Generator Start Value: 4\n",
      "For Loop X Value\n"
     ]
    }
   ],
   "source": [
    "# creating our own range generator with start, stop, and step parameters\n",
    "\n",
    "def myRange(stop, start=0,step=1):\n",
    "    while start < stop:\n",
    "        print(\"Generator Start Value: {}\".format(start))\n",
    "        yield start\n",
    "        start += step\n",
    "\n",
    "for x in myRange(5):\n",
    "    print(\"For Loop X Value\".format(x))"
   ]
  },
  {
   "cell_type": "code",
   "execution_count": 5,
   "metadata": {},
   "outputs": [
    {
     "name": "stdout",
     "output_type": "stream",
     "text": [
      "5\n",
      "4\n",
      "3\n",
      "2\n",
      "1\n"
     ]
    }
   ],
   "source": [
    "#Execerise 1\n",
    "\n",
    "\n",
    "class Rev:\n",
    "    def __init__(self,arr):\n",
    "        self.arr = arr\n",
    "    def __iter__(self):\n",
    "        self.rev_arr = self.arr\n",
    "        self.index = len(self.arr)-1\n",
    "        return self\n",
    "    def __next__(self):\n",
    "        if self.index >= 0:\n",
    "            item = self.rev_arr[self.index]\n",
    "            self.index -= 1\n",
    "            return item\n",
    "        else:\n",
    "            raise StopIteration\n",
    "\n",
    "for item in Rev([1,2,3,4,5]):\n",
    "    print(item)"
   ]
  },
  {
   "cell_type": "code",
   "execution_count": 11,
   "metadata": {},
   "outputs": [
    {
     "name": "stdout",
     "output_type": "stream",
     "text": [
      "0\n",
      "1\n",
      "4\n",
      "9\n",
      "16\n"
     ]
    }
   ],
   "source": [
    "def square_num(stop, start = 0, step = 1):\n",
    "    while start <= stop:\n",
    "        yield start **2\n",
    "        start += step\n",
    "\n",
    "for x in square_num(4):\n",
    "    print(x)"
   ]
  },
  {
   "cell_type": "markdown",
   "metadata": {},
   "source": [
    "# Decorators"
   ]
  },
  {
   "cell_type": "code",
   "execution_count": 12,
   "metadata": {},
   "outputs": [
    {
     "name": "stdout",
     "output_type": "stream",
     "text": [
      "========\n",
      "John!\n",
      "========\n"
     ]
    }
   ],
   "source": [
    "# creating and applying our decorator using the @ symbol\n",
    "\n",
    "def decorator(func):\n",
    "    def wrap():\n",
    "        print(\"========\")\n",
    "        func()\n",
    "        print(\"========\")\n",
    "    return wrap\n",
    "@decorator\n",
    "def printName():\n",
    "    print(\"John!\")\n",
    "printName()"
   ]
  },
  {
   "cell_type": "code",
   "execution_count": 13,
   "metadata": {},
   "outputs": [
    {
     "name": "stdout",
     "output_type": "stream",
     "text": [
      "Hello!\n",
      "Hello!\n",
      "Hello!\n",
      "Hello!\n"
     ]
    }
   ],
   "source": [
    "# creating a decorator that takes in parameters\n",
    "\n",
    "def run_times(num):\n",
    "    def wrap(func):\n",
    "        for i in range(num):\n",
    "            func()\n",
    "    return wrap\n",
    "@run_times(4)\n",
    "def sayHello():\n",
    "    print(\"Hello!\")"
   ]
  },
  {
   "cell_type": "code",
   "execution_count": 15,
   "metadata": {},
   "outputs": [
    {
     "name": "stdout",
     "output_type": "stream",
     "text": [
      "Happy birthday Paul, you are now 44.\n"
     ]
    }
   ],
   "source": [
    "# creating a decorator for a function that accepts parameters\n",
    "def birthday(func):\n",
    "    def wrap(name,age):\n",
    "        func(name, age + 1)\n",
    "    return wrap\n",
    "@birthday\n",
    "def celebrate(name,age):\n",
    "    print(\"Happy birthday {}, you are now {}.\".format(name,age))\n",
    "celebrate(\"Paul\",43)"
   ]
  },
  {
   "cell_type": "code",
   "execution_count": 16,
   "metadata": {},
   "outputs": [
    {
     "name": "stdout",
     "output_type": "stream",
     "text": [
      "What is the password? ilywpf\n",
      "Access granted, welcome Jess\n"
     ]
    }
   ],
   "source": [
    "# real world sim, restricting function access\n",
    "\n",
    "def login_required(func):\n",
    "    def wrap(user):\n",
    "        password = input(\"What is the password? \")\n",
    "        if password == user[\"password\"]:\n",
    "            func(user)\n",
    "        else:\n",
    "            print(\"Access Denied\")\n",
    "    return wrap\n",
    "\n",
    "@login_required\n",
    "def restrictedFunc(user):\n",
    "    print(\"Access granted, welcome {}\".format(user[\"name\"]))\n",
    "user = {\"name\":\"Jess\",\"password\":\"ilywpf\"}\n",
    "\n",
    "restrictedFunc(user)"
   ]
  },
  {
   "cell_type": "code",
   "execution_count": 19,
   "metadata": {},
   "outputs": [
    {
     "name": "stdout",
     "output_type": "stream",
     "text": [
      "Please type in a num: 100\n",
      "Greater than or equal 100\n"
     ]
    }
   ],
   "source": [
    "# Execerise 2\n",
    "\n",
    "def less(func):\n",
    "    def wrap():\n",
    "        num = int(input(\"Please type in a num: \"))\n",
    "        if num < 100:\n",
    "            func()\n",
    "        else:\n",
    "            print(\"Greater than or equal 100\")\n",
    "    return wrap\n",
    "\n",
    "@less\n",
    "def numbers():\n",
    "    print(\"Less than 100\")\n",
    "numbers()\n",
    "        "
   ]
  },
  {
   "cell_type": "markdown",
   "metadata": {},
   "source": [
    "# Module "
   ]
  },
  {
   "cell_type": "code",
   "execution_count": 20,
   "metadata": {},
   "outputs": [
    {
     "name": "stdout",
     "output_type": "stream",
     "text": [
      "2\n",
      "3\n",
      "3.141592653589793\n"
     ]
    }
   ],
   "source": [
    "# import the entire math module\n",
    "\n",
    "import math\n",
    "\n",
    "print(math.floor(2.5))\n",
    "print(math.ceil(2.5))\n",
    "print(math.pi)"
   ]
  },
  {
   "cell_type": "code",
   "execution_count": 21,
   "metadata": {},
   "outputs": [
    {
     "name": "stdout",
     "output_type": "stream",
     "text": [
      "2\n"
     ]
    }
   ],
   "source": [
    "# importing only variables and functions rather than an entire module, better efficiency\n",
    "\n",
    "from math import floor, pi\n",
    "\n",
    "print(floor(2.5))"
   ]
  },
  {
   "cell_type": "code",
   "execution_count": 22,
   "metadata": {},
   "outputs": [
    {
     "name": "stdout",
     "output_type": "stream",
     "text": [
      "2\n"
     ]
    }
   ],
   "source": [
    "# using the \"as\" keyword to create an alias for imports\n",
    "from math import floor as f\n",
    "\n",
    "print(f(2.5))"
   ]
  },
  {
   "cell_type": "code",
   "execution_count": 25,
   "metadata": {},
   "outputs": [
    {
     "name": "stdout",
     "output_type": "stream",
     "text": [
      "5 10\n",
      "John Smith is 37 years old.\n"
     ]
    }
   ],
   "source": [
    "# using the run command with Jupyter Notebook to access our own modules\n",
    "\n",
    "%run test.py\n",
    "\n",
    "print(length,width)\n",
    "printInfo(\"John Smith\",37)"
   ]
  },
  {
   "cell_type": "code",
   "execution_count": 26,
   "metadata": {},
   "outputs": [
    {
     "name": "stdout",
     "output_type": "stream",
     "text": [
      "Time module imported \n"
     ]
    }
   ],
   "source": [
    "# exerices 3\n",
    "from time import sleep\n",
    "sleep(5)\n",
    "\n",
    "print(\"Time module imported \")"
   ]
  },
  {
   "cell_type": "code",
   "execution_count": 28,
   "metadata": {},
   "outputs": [
    {
     "name": "stdout",
     "output_type": "stream",
     "text": [
      "450\n"
     ]
    }
   ],
   "source": [
    "from calculation import calcArea\n",
    "\n",
    "print(calcArea(15,30))"
   ]
  },
  {
   "cell_type": "markdown",
   "metadata": {},
   "source": [
    "# Understanding Algorithmic Complexity"
   ]
  },
  {
   "cell_type": "code",
   "execution_count": 29,
   "metadata": {},
   "outputs": [],
   "source": [
    "# creating data collections to test for time complexity\n",
    "\n",
    "import time\n",
    "\n",
    "d = {}\n",
    "\n",
    "for i in range(10000000):\n",
    "    d[i] = \"value\"\n",
    "big_list = [x for x in range(10000000)]"
   ]
  },
  {
   "cell_type": "code",
   "execution_count": 30,
   "metadata": {},
   "outputs": [
    {
     "name": "stdout",
     "output_type": "stream",
     "text": [
      "Found in dictionary\n",
      "Elapsed time for dictionary: 0.0019989013671875\n",
      "Found in list\n",
      "Elapsed time for list:  0.24585938453674316\n"
     ]
    }
   ],
   "source": [
    "# retrieving infomation and tracking time to see which is faster\n",
    "\n",
    "start_time = time.time()\n",
    "if 9999999 in d:\n",
    "    print(\"Found in dictionary\")\n",
    "end_time = time.time() - start_time\n",
    "\n",
    "print(\"Elapsed time for dictionary: {}\".format(end_time))\n",
    "\n",
    "start_time = time.time()\n",
    "\n",
    "if 9999999 in big_list:\n",
    "    print(\"Found in list\")\n",
    "end_time = time.time() - start_time\n",
    "print(\"Elapsed time for list:  {}\".format(end_time))"
   ]
  },
  {
   "cell_type": "code",
   "execution_count": 31,
   "metadata": {},
   "outputs": [],
   "source": [
    "# testing bubble sort vs insertion sort\n",
    "\n",
    "def bubbleSort(aList):\n",
    "    for i in range(len(aList)):\n",
    "        switch = False\n",
    "        for j in range(len(aList)-1):\n",
    "            if aList[j] > aList[j + 1]:\n",
    "                aList[j],aList[i+1] = aList[j+1],aList[j]\n",
    "                switched = True\n",
    "        if switched == False:\n",
    "            break\n",
    "    return aList\n",
    "\n",
    "def insertionSort(aList):\n",
    "    for i in range(1,len(aList)):\n",
    "        if aList[i] < aList[i -1]:\n",
    "            for j in range(i,0,-1):\n",
    "                if aList[j] < aList[j-1]:\n",
    "                    aList[j],aList[j+1] = aList[j+1],aList[j]\n",
    "                else:\n",
    "                    break\n",
    "    return aList"
   ]
  },
  {
   "cell_type": "code",
   "execution_count": 32,
   "metadata": {},
   "outputs": [
    {
     "name": "stdout",
     "output_type": "stream",
     "text": [
      "Elapsed time for Bubble sort: 3.896770477294922\n",
      "Elapsed time for Insertion Sort: 0.0009999275207519531\n"
     ]
    }
   ],
   "source": [
    "# calling bubble sort and insertion sort to test time complexity\n",
    "\n",
    "from random import randint\n",
    "nums = [randint(0,100) for x in range(5000)]\n",
    "\n",
    "start_time = time.time()\n",
    "bubbleSort(nums)\n",
    "end_time = time.time() - start_time\n",
    "print(\"Elapsed time for Bubble sort: {}\".format(end_time))\n",
    "\n",
    "\n",
    "start_time = time.time()\n",
    "\n",
    "insertionSort(nums)\n",
    "end_time = time.time() - start_time\n",
    "print(\"Elapsed time for Insertion Sort: {}\".format(end_time))\n"
   ]
  },
  {
   "cell_type": "code",
   "execution_count": 33,
   "metadata": {},
   "outputs": [],
   "source": [
    "#Execerise 4\n",
    "\n",
    "#Merge sort is O(nlogn)\n",
    "#Binary search max guesses for 10000000 items is log base2 10000000 = 23.2534966642"
   ]
  },
  {
   "cell_type": "code",
   "execution_count": null,
   "metadata": {},
   "outputs": [],
   "source": []
  }
 ],
 "metadata": {
  "kernelspec": {
   "display_name": "Python 3",
   "language": "python",
   "name": "python3"
  },
  "language_info": {
   "codemirror_mode": {
    "name": "ipython",
    "version": 3
   },
   "file_extension": ".py",
   "mimetype": "text/x-python",
   "name": "python",
   "nbconvert_exporter": "python",
   "pygments_lexer": "ipython3",
   "version": "3.6.5"
  }
 },
 "nbformat": 4,
 "nbformat_minor": 2
}
