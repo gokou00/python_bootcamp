{
 "cells": [
  {
   "cell_type": "markdown",
   "metadata": {},
   "source": [
    "# List Comprehension"
   ]
  },
  {
   "cell_type": "code",
   "execution_count": 1,
   "metadata": {},
   "outputs": [
    {
     "name": "stdout",
     "output_type": "stream",
     "text": [
      "[0, 1, 2, 3, 4, 5, 6, 7, 8, 9, 10, 11, 12, 13, 14, 15, 16, 17, 18, 19, 20, 21, 22, 23, 24, 25, 26, 27, 28, 29, 30, 31, 32, 33, 34, 35, 36, 37, 38, 39, 40, 41, 42, 43, 44, 45, 46, 47, 48, 49, 50, 51, 52, 53, 54, 55, 56, 57, 58, 59, 60, 61, 62, 63, 64, 65, 66, 67, 68, 69, 70, 71, 72, 73, 74, 75, 76, 77, 78, 79, 80, 81, 82, 83, 84, 85, 86, 87, 88, 89, 90, 91, 92, 93, 94, 95, 96, 97, 98, 99]\n"
     ]
    }
   ],
   "source": [
    "# create a list of ten numbers using list comprehension\n",
    "\n",
    "nums = [x for x in range(100)]\n",
    "print(nums)"
   ]
  },
  {
   "cell_type": "code",
   "execution_count": 2,
   "metadata": {},
   "outputs": [
    {
     "name": "stdout",
     "output_type": "stream",
     "text": [
      "[0, 2, 4, 6, 8]\n"
     ]
    }
   ],
   "source": [
    "# using if statements within list comprehension\n",
    "\n",
    "nums = [x for x in range(10) if x % 2 == 0 ]\n",
    "print(nums)"
   ]
  },
  {
   "cell_type": "code",
   "execution_count": 3,
   "metadata": {},
   "outputs": [
    {
     "name": "stdout",
     "output_type": "stream",
     "text": [
      "['Even', 'Odd', 'Even', 'Odd', 'Even', 'Odd', 'Even', 'Odd', 'Even', 'Odd']\n"
     ]
    }
   ],
   "source": [
    "# using if/else statements within list comprehension\n",
    "\n",
    "nums = [\"Even\" if x % 2 == 0 else \"Odd\" for x in range(10)]\n",
    "print(nums)"
   ]
  },
  {
   "cell_type": "code",
   "execution_count": 5,
   "metadata": {},
   "outputs": [
    {
     "name": "stdout",
     "output_type": "stream",
     "text": [
      "[4, 16, 36, 64]\n"
     ]
    }
   ],
   "source": [
    "# creating a list of squared numbers from another list of numbers using list comprehension\n",
    "\n",
    "nums = [2,4,6,8]\n",
    "\n",
    "squared_nums = [num**2 for num in nums]\n",
    "\n",
    "print(squared_nums)"
   ]
  },
  {
   "cell_type": "code",
   "execution_count": 7,
   "metadata": {},
   "outputs": [
    {
     "name": "stdout",
     "output_type": "stream",
     "text": [
      "{0: 0, 2: 4, 4: 16, 6: 36, 8: 64}\n"
     ]
    }
   ],
   "source": [
    "# creating a dictionary of even numbers and square values using comprehension\n",
    "\n",
    "numbers = [x for x in range(10)]\n",
    "squares = {num: num**2 for num in numbers if num % 2 ==0}\n",
    "print(squares)"
   ]
  },
  {
   "cell_type": "code",
   "execution_count": 9,
   "metadata": {},
   "outputs": [
    {
     "name": "stdout",
     "output_type": "stream",
     "text": [
      "[53.6, 69.80000000000001, 59.0, 89.6]\n"
     ]
    }
   ],
   "source": [
    "# execerise 1\n",
    "\n",
    "C = [12,21,15,32]\n",
    "\n",
    "fahrenheit = [(9/5)* x + 32 for x in C ]\n",
    "\n",
    "print(fahrenheit)"
   ]
  },
  {
   "cell_type": "code",
   "execution_count": 14,
   "metadata": {},
   "outputs": [
    {
     "name": "stdout",
     "output_type": "stream",
     "text": [
      "Please enter a number: 25\n",
      "[25, 50, 75, 100]\n"
     ]
    }
   ],
   "source": [
    "ans = int(input(\"Please enter a number: \"))\n",
    "\n",
    "num_list = [x for x in range(1,100+1) if x % ans == 0]\n",
    "print(num_list)"
   ]
  },
  {
   "cell_type": "markdown",
   "metadata": {},
   "source": [
    "# Lambda Functions"
   ]
  },
  {
   "cell_type": "code",
   "execution_count": 15,
   "metadata": {},
   "outputs": [
    {
     "data": {
      "text/plain": [
       "16"
      ]
     },
     "execution_count": 15,
     "metadata": {},
     "output_type": "execute_result"
    }
   ],
   "source": [
    "# using a lambda to square a number\n",
    "\n",
    "(lambda x: x**2)(4)"
   ]
  },
  {
   "cell_type": "code",
   "execution_count": 16,
   "metadata": {},
   "outputs": [
    {
     "data": {
      "text/plain": [
       "50"
      ]
     },
     "execution_count": 16,
     "metadata": {},
     "output_type": "execute_result"
    }
   ],
   "source": [
    "# passing multiple arguments into a lambda\n",
    "\n",
    "(lambda x,y: x * y )(10,5)"
   ]
  },
  {
   "cell_type": "code",
   "execution_count": 17,
   "metadata": {},
   "outputs": [
    {
     "name": "stdout",
     "output_type": "stream",
     "text": [
      "<function <lambda> at 0x0000020366B639D8>\n",
      "50\n"
     ]
    }
   ],
   "source": [
    "# saving a lambda function into a variable\n",
    "\n",
    "square = lambda x,y : x*y\n",
    "print(square)\n",
    "result = square(10,5)\n",
    "print(result)"
   ]
  },
  {
   "cell_type": "code",
   "execution_count": 18,
   "metadata": {},
   "outputs": [
    {
     "name": "stdout",
     "output_type": "stream",
     "text": [
      "10\n"
     ]
    }
   ],
   "source": [
    "# using if/else statements within a lambda to return the greater number\n",
    "\n",
    "greater = lambda x,y : x if x > y else y\n",
    "result = greater (5,10)\n",
    "print(result)"
   ]
  },
  {
   "cell_type": "code",
   "execution_count": 19,
   "metadata": {},
   "outputs": [
    {
     "name": "stdout",
     "output_type": "stream",
     "text": [
      "10\n",
      "15\n"
     ]
    }
   ],
   "source": [
    "# returning a lambda function from another function\n",
    "\n",
    "def my_func(n):\n",
    "    return lambda x : x * n\n",
    "doubler = my_func(2)\n",
    "\n",
    "print(doubler(5))\n",
    "\n",
    "tripler = my_func(3)\n",
    "print(tripler(5))\n",
    "\n",
    "\n"
   ]
  },
  {
   "cell_type": "code",
   "execution_count": 20,
   "metadata": {},
   "outputs": [
    {
     "data": {
      "text/plain": [
       "53.6"
      ]
     },
     "execution_count": 20,
     "metadata": {},
     "output_type": "execute_result"
    }
   ],
   "source": [
    "# execerise 2\n",
    "\n",
    "lambda x: True if x > 50 else False\n",
    "\n",
    "(lambda x: (9/5)* x + 32 )(12)"
   ]
  },
  {
   "cell_type": "markdown",
   "metadata": {},
   "source": [
    "# Map, Reduce, and Filter"
   ]
  },
  {
   "cell_type": "code",
   "execution_count": 22,
   "metadata": {},
   "outputs": [
    {
     "name": "stdout",
     "output_type": "stream",
     "text": [
      "<map object at 0x0000020366B95278>\n",
      "[54.5, 56.480000000000004, 59.0, 48.56]\n"
     ]
    }
   ],
   "source": [
    "# using the map function within lambdas \n",
    "def convertDeg(C):\n",
    "    return (9/5) * C + 32\n",
    "\n",
    "temps = [12.5,13.6,15,9.2]\n",
    "converted_temps = map(convertDeg,temps)\n",
    "print(converted_temps)\n",
    "\n",
    "converted_temps = list(converted_temps)\n",
    "print(converted_temps)"
   ]
  },
  {
   "cell_type": "code",
   "execution_count": 23,
   "metadata": {},
   "outputs": [
    {
     "name": "stdout",
     "output_type": "stream",
     "text": [
      "[54.5, 56.480000000000004, 59.0, 48.56]\n"
     ]
    }
   ],
   "source": [
    "# using a map function with lambda \n",
    "temps = [12.5,13.6,15,9.2]\n",
    "\n",
    "converted_temps = list(map(lambda C: (9/5) * C + 32, temps))\n",
    "print(converted_temps)"
   ]
  },
  {
   "cell_type": "code",
   "execution_count": 25,
   "metadata": {},
   "outputs": [
    {
     "name": "stdout",
     "output_type": "stream",
     "text": [
      "<filter object at 0x0000020366B982B0>\n",
      "[13.6, 15]\n"
     ]
    }
   ],
   "source": [
    "# using the filter function without lambda functions, filter out temps below 55F\n",
    "\n",
    "def filterTemps(C):\n",
    "    converted = (9/5) * C + 32\n",
    "    \n",
    "    return True if converted > 55 else False\n",
    "\n",
    "temps = [12.5,13.6,15,9.2]\n",
    "\n",
    "filtered_temps = filter(filterTemps,temps)\n",
    "print(filtered_temps)\n",
    "filtered_temps = list(filtered_temps)\n",
    "print(filtered_temps)"
   ]
  },
  {
   "cell_type": "code",
   "execution_count": 26,
   "metadata": {},
   "outputs": [
    {
     "name": "stdout",
     "output_type": "stream",
     "text": [
      "[13.6, 15]\n"
     ]
    }
   ],
   "source": [
    "# using the filter function with lambda functions, filter out temps below 55F\n",
    "temps = [12.5,13.6,15,9.2]\n",
    "\n",
    "filtered_temps = list(filter(lambda C: True if (9/5) * C + 32 > 55 else False,temps))\n",
    "print(filtered_temps)"
   ]
  },
  {
   "cell_type": "code",
   "execution_count": 27,
   "metadata": {},
   "outputs": [
    {
     "name": "stdout",
     "output_type": "stream",
     "text": [
      "24\n"
     ]
    }
   ],
   "source": [
    "# for informational purposes this is how you use the reduce function \n",
    "\n",
    "from functools import reduce\n",
    "nums = [1,2,3,4]\n",
    "result = reduce(lambda a,b: a*b,nums )\n",
    "print(result)"
   ]
  },
  {
   "cell_type": "code",
   "execution_count": 29,
   "metadata": {},
   "outputs": [
    {
     "name": "stdout",
     "output_type": "stream",
     "text": [
      "['Ryan', 'Paul', 'Kevin Connors']\n"
     ]
    }
   ],
   "source": [
    "# Execerise 3\n",
    "\n",
    "names = [\"    ryan\",\"PAUL\",\"kevin connors       \"]\n",
    "correct_names = list(map(lambda x: x.strip().title(), names))\n",
    "print(correct_names)"
   ]
  },
  {
   "cell_type": "code",
   "execution_count": 31,
   "metadata": {},
   "outputs": [
    {
     "name": "stdout",
     "output_type": "stream",
     "text": [
      "['Frank', 'Ripal']\n"
     ]
    }
   ],
   "source": [
    "names = [\"Amanda\", \"Frank\", \"abby\", \"Ripal\", \"Adam\"]\n",
    "correct_names = list(filter(lambda x: True if not x.lower().startswith(\"a\") else False,names))\n",
    "print(correct_names)"
   ]
  },
  {
   "cell_type": "markdown",
   "metadata": {},
   "source": [
    "# Recursive Functions and Memoization"
   ]
  },
  {
   "cell_type": "code",
   "execution_count": 32,
   "metadata": {},
   "outputs": [
    {
     "name": "stdout",
     "output_type": "stream",
     "text": [
      "120\n"
     ]
    }
   ],
   "source": [
    "# writing a factorial using recursive functions \n",
    "\n",
    "def factorial(n):\n",
    "    if n <= 1:\n",
    "        return 1\n",
    "    else:\n",
    "        return factorial(n-1) * n\n",
    "print(factorial(5))"
   ]
  },
  {
   "cell_type": "code",
   "execution_count": 33,
   "metadata": {},
   "outputs": [
    {
     "name": "stdout",
     "output_type": "stream",
     "text": [
      "5\n"
     ]
    }
   ],
   "source": [
    "# writing the recursive fibonacci sequence\n",
    "\n",
    "def fib(n):\n",
    "    if n <= 1:\n",
    "        return n\n",
    "    else:\n",
    "        return fib(n -1) + fib(n-2)\n",
    "print(fib(5))"
   ]
  },
  {
   "cell_type": "code",
   "execution_count": 34,
   "metadata": {},
   "outputs": [
    {
     "name": "stdout",
     "output_type": "stream",
     "text": [
      "12586269025\n"
     ]
    }
   ],
   "source": [
    "# using memoization with the fibonacci sequence\n",
    "\n",
    "cache = {}\n",
    "\n",
    "def fib(n):\n",
    "    if n in cache:\n",
    "        return cache[n]\n",
    "    result = 0\n",
    "    if n <= 1:\n",
    "        result = n\n",
    "    else:\n",
    "        result = fib(n-1) + fib(n-2)\n",
    "    cache[n] = result\n",
    "    return result\n",
    "print(fib(50))\n"
   ]
  },
  {
   "cell_type": "code",
   "execution_count": 35,
   "metadata": {},
   "outputs": [
    {
     "data": {
      "text/plain": [
       "12586269025"
      ]
     },
     "execution_count": 35,
     "metadata": {},
     "output_type": "execute_result"
    }
   ],
   "source": [
    "# using @lru_cache, Python's default moization/caching technique\n",
    "\n",
    "from functools import lru_cache\n",
    "\n",
    "@lru_cache()\n",
    "def fib(n):\n",
    "    if n <= 1:\n",
    "        return n\n",
    "    else:\n",
    "        return fib(n-1) + fib(n-2)\n",
    "\n",
    "fib(50)"
   ]
  },
  {
   "cell_type": "code",
   "execution_count": 38,
   "metadata": {},
   "outputs": [
    {
     "name": "stdout",
     "output_type": "stream",
     "text": [
      "30414093201713378043612608166064768844377641568960512000000000000\n"
     ]
    }
   ],
   "source": [
    "# execerise 4\n",
    "\n",
    "# creating my own cache\n",
    "cache = {}\n",
    "def factorial1(n):\n",
    "    if n in cache:\n",
    "        return cache[n]\n",
    "    result = 0\n",
    "    if n <= 1:\n",
    "        result = n\n",
    "    else:\n",
    "        result = factorial1(n-1) * n\n",
    "    cache[n] = result\n",
    "    return cache[n]\n",
    "print(factorial1(50))\n",
    "    "
   ]
  },
  {
   "cell_type": "code",
   "execution_count": 40,
   "metadata": {},
   "outputs": [
    {
     "name": "stdout",
     "output_type": "stream",
     "text": [
      "30414093201713378043612608166064768844377641568960512000000000000\n"
     ]
    }
   ],
   "source": [
    "# using the builtin lru_cache\n",
    "from functools import lru_cache\n",
    "\n",
    "@lru_cache()\n",
    "\n",
    "def factorial2(n):\n",
    "    if n <= 1:\n",
    "        return n\n",
    "    else:\n",
    "        return n * factorial2(n-1)\n",
    "\n",
    "print(factorial2(50))\n"
   ]
  },
  {
   "cell_type": "code",
   "execution_count": 43,
   "metadata": {},
   "outputs": [
    {
     "name": "stdout",
     "output_type": "stream",
     "text": [
      "[22]\n",
      "True\n"
     ]
    }
   ],
   "source": [
    "# use recursion to search a list \n",
    "\n",
    "def searchList(arr,item):\n",
    "    if arr == []:\n",
    "        return False\n",
    "    if type(arr[0]) is list:\n",
    "        return searchList((arr[1:] + arr[0]),item )\n",
    "    if arr[0] == item:\n",
    "        return True\n",
    "    else:\n",
    "        return searchList(arr[1:],item)\n",
    "\n",
    "print(searchList([2,3,[18,22],6],22))"
   ]
  },
  {
   "cell_type": "markdown",
   "metadata": {},
   "source": [
    "# Friday Project: Writing a Binary Search"
   ]
  },
  {
   "cell_type": "code",
   "execution_count": 52,
   "metadata": {},
   "outputs": [
    {
     "name": "stdout",
     "output_type": "stream",
     "text": [
      "True\n"
     ]
    }
   ],
   "source": [
    "# setting up imports and generating a list of random numbers to work \n",
    "\n",
    "import random\n",
    "nums = [random.randint(0,20) for i in range(10)]\n",
    "def binarySearch(aList,num):\n",
    "    aList.sort()\n",
    "    low = 0\n",
    "    high = len(aList) -1 \n",
    "    \n",
    "    while low <= high:\n",
    "        mid = (low + high)//2\n",
    "        if aList[mid] == num:\n",
    "            return True\n",
    "        elif aList[mid] < num:\n",
    "            low = mid + 1\n",
    "        else:\n",
    "            high = mid - 1\n",
    "    return False\n",
    "        \n",
    "    \n",
    "    \n",
    "\n",
    "\n",
    "print(binarySearch(nums,3))\n",
    "\n"
   ]
  },
  {
   "cell_type": "code",
   "execution_count": null,
   "metadata": {},
   "outputs": [],
   "source": []
  }
 ],
 "metadata": {
  "kernelspec": {
   "display_name": "Python 3",
   "language": "python",
   "name": "python3"
  },
  "language_info": {
   "codemirror_mode": {
    "name": "ipython",
    "version": 3
   },
   "file_extension": ".py",
   "mimetype": "text/x-python",
   "name": "python",
   "nbconvert_exporter": "python",
   "pygments_lexer": "ipython3",
   "version": "3.6.5"
  }
 },
 "nbformat": 4,
 "nbformat_minor": 2
}
