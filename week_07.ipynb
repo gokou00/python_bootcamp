{
 "cells": [
  {
   "cell_type": "markdown",
   "metadata": {},
   "source": [
    "# Creating & Instantiating a Class "
   ]
  },
  {
   "cell_type": "code",
   "execution_count": 1,
   "metadata": {},
   "outputs": [],
   "source": [
    "# creating your first class\n",
    "class Car():\n",
    "    pass\n"
   ]
  },
  {
   "cell_type": "code",
   "execution_count": 3,
   "metadata": {},
   "outputs": [
    {
     "name": "stdout",
     "output_type": "stream",
     "text": [
      "-9223371889672761768\n",
      "147182014037\n"
     ]
    }
   ],
   "source": [
    "# instantiating an object from a class\n",
    "ford = Car()\n",
    "subaru = Car()\n",
    "print(hash(ford))\n",
    "print(hash(subaru))\n",
    "\n"
   ]
  },
  {
   "cell_type": "code",
   "execution_count": 6,
   "metadata": {},
   "outputs": [],
   "source": [
    "#exercise 1\n",
    "class Animals:\n",
    "    pass\n",
    "lion = Animals()\n",
    "tiger = Animals()\n",
    "\n",
    "\n",
    "class Bus:\n",
    "    pass\n",
    "school_bus = Bus()\n",
    "\n"
   ]
  },
  {
   "cell_type": "markdown",
   "metadata": {},
   "source": [
    "# Attributes"
   ]
  },
  {
   "cell_type": "code",
   "execution_count": 7,
   "metadata": {},
   "outputs": [
    {
     "name": "stdout",
     "output_type": "stream",
     "text": [
      "red\n"
     ]
    }
   ],
   "source": [
    "# how to define a class attribute\n",
    "\n",
    "class Car():\n",
    "    sound = \"Beep\"\n",
    "    color = \"red\"\n",
    "ford = Car()\n",
    "print(ford.color)"
   ]
  },
  {
   "cell_type": "code",
   "execution_count": 10,
   "metadata": {},
   "outputs": [
    {
     "name": "stdout",
     "output_type": "stream",
     "text": [
      "beep\n",
      "Honk\n"
     ]
    }
   ],
   "source": [
    "# changing the values of an attribute\n",
    "\n",
    "class Car():\n",
    "    sound = \"beep\"\n",
    "    color = \"red\"\n",
    "ford = Car()\n",
    "test = Car()\n",
    "print(ford.sound)\n",
    "ford.sound = \"Honk\"\n",
    "print(ford.sound)\n",
    "\n"
   ]
  },
  {
   "cell_type": "code",
   "execution_count": 11,
   "metadata": {},
   "outputs": [
    {
     "name": "stdout",
     "output_type": "stream",
     "text": [
      "blue\n"
     ]
    }
   ],
   "source": [
    "# using the init method to give instances personalized attributes upon creation \n",
    "\n",
    "class Car():\n",
    "    def __init__(self,color):\n",
    "        self.color = color\n",
    "    \n",
    "ford = Car(\"blue\")\n",
    "print(ford.color)"
   ]
  },
  {
   "cell_type": "code",
   "execution_count": 12,
   "metadata": {},
   "outputs": [
    {
     "name": "stdout",
     "output_type": "stream",
     "text": [
      "blue 2016\n",
      "red 2018\n"
     ]
    }
   ],
   "source": [
    "# defining different values for mulptiple instances\n",
    "\n",
    "class Car():\n",
    "    def __init__(self,color,year):\n",
    "        self.color = color\n",
    "        self.year = year\n",
    "ford = Car(\"blue\",2016)\n",
    "subaru = Car(\"red\",2018)\n",
    "print(ford.color,ford.year)\n",
    "print(subaru.color,subaru.year)"
   ]
  },
  {
   "cell_type": "code",
   "execution_count": 13,
   "metadata": {},
   "outputs": [
    {
     "name": "stdout",
     "output_type": "stream",
     "text": [
      "beep\n",
      "beep blue\n"
     ]
    }
   ],
   "source": [
    "# using and accessing global class attributes\n",
    "\n",
    "class Car():\n",
    "    sound = \"beep\"\n",
    "    def __init__(self,color):\n",
    "        self.color = \"blue\"\n",
    "print(Car.sound)\n",
    "\n",
    "ford = Car(\"blue\")\n",
    "print(ford.sound, ford.color)"
   ]
  },
  {
   "cell_type": "code",
   "execution_count": 16,
   "metadata": {},
   "outputs": [
    {
     "name": "stdout",
     "output_type": "stream",
     "text": [
      "Canine\n",
      "Sammi\n",
      "Husky\n",
      "---------------------------\n",
      "Canine\n",
      "Chocolate Lab\n",
      "Casey\n"
     ]
    }
   ],
   "source": [
    "# execerise 2\n",
    "class Dog:\n",
    "    species = \"Canine\"\n",
    "    def __init__(self,name,breed):\n",
    "        self.name = name\n",
    "        self.breed = breed\n",
    "\n",
    "d1 = Dog(\"Sammi\",\"Husky\")\n",
    "print(d1.species)\n",
    "print(d1.name)\n",
    "print(d1.breed)\n",
    "print(\"---------------------------\")\n",
    "d2 = Dog(\"Chocolate Lab\", \"Casey\")\n",
    "print(d2.species)\n",
    "print(d2.name)\n",
    "print(d2.breed)"
   ]
  },
  {
   "cell_type": "code",
   "execution_count": 17,
   "metadata": {},
   "outputs": [
    {
     "name": "stdout",
     "output_type": "stream",
     "text": [
      "Please enter your name: John Doe\n",
      "John Doe\n"
     ]
    }
   ],
   "source": [
    "class Person:\n",
    "    def __init__(self,name):\n",
    "        self.name = name\n",
    "\n",
    "n = input(\"Please enter your name: \")\n",
    "\n",
    "p1 = Person(n)\n",
    "\n",
    "print(p1.name)\n"
   ]
  },
  {
   "cell_type": "markdown",
   "metadata": {},
   "source": [
    "# Methods"
   ]
  },
  {
   "cell_type": "code",
   "execution_count": 19,
   "metadata": {},
   "outputs": [
    {
     "name": "stdout",
     "output_type": "stream",
     "text": [
      "bark\n"
     ]
    }
   ],
   "source": [
    "# defining and calling our first class method\n",
    "\n",
    "class Dog():\n",
    "    def makeSound(self):\n",
    "        print(\"bark\")\n",
    "sam = Dog()\n",
    "sam.makeSound()"
   ]
  },
  {
   "cell_type": "code",
   "execution_count": 22,
   "metadata": {},
   "outputs": [
    {
     "name": "stdout",
     "output_type": "stream",
     "text": [
      "bark\n"
     ]
    }
   ],
   "source": [
    "# using the self keyboard to access attributes within class methods\n",
    "\n",
    "class Dog():\n",
    "    sound = \"bark\"\n",
    "    def makeSound(self):\n",
    "        print(self.sound)\n",
    "sam = Dog()\n",
    "sam.makeSound()"
   ]
  },
  {
   "cell_type": "code",
   "execution_count": 23,
   "metadata": {},
   "outputs": [
    {
     "name": "stdout",
     "output_type": "stream",
     "text": [
      "I am a dog.\n",
      "bark\n"
     ]
    }
   ],
   "source": [
    "# understanding which methods are accessible via the class itself and class instances\n",
    "\n",
    "class Dog():\n",
    "    sound = \"bark\"\n",
    "    def makeSound(self):\n",
    "        print(self.sound)\n",
    "    def printInfo():\n",
    "        print(\"I am a dog.\")\n",
    "        \n",
    "Dog.printInfo()\n",
    "sam = Dog()\n",
    "sam.makeSound()"
   ]
  },
  {
   "cell_type": "code",
   "execution_count": 24,
   "metadata": {},
   "outputs": [
    {
     "name": "stdout",
     "output_type": "stream",
     "text": [
      "6\n"
     ]
    }
   ],
   "source": [
    "# writing methods that accept parameters\n",
    "\n",
    "class Dog():\n",
    "    def showAge(self,age):\n",
    "        print(age)\n",
    "\n",
    "sam = Dog()\n",
    "sam.showAge(6)"
   ]
  },
  {
   "cell_type": "code",
   "execution_count": 25,
   "metadata": {},
   "outputs": [
    {
     "name": "stdout",
     "output_type": "stream",
     "text": [
      "Sammi\n"
     ]
    }
   ],
   "source": [
    "# using methods to set or return attribute values, proper programming practice\n",
    "\n",
    "class Dog():\n",
    "    name = \" \"\n",
    "    def setName(self,new_name):\n",
    "        self.name = new_name\n",
    "    def getName(self):\n",
    "        return self.name\n",
    "sam = Dog()\n",
    "sam.setName(\"Sammi\")\n",
    "print(sam.getName())"
   ]
  },
  {
   "cell_type": "code",
   "execution_count": 26,
   "metadata": {},
   "outputs": [
    {
     "name": "stdout",
     "output_type": "stream",
     "text": [
      "6\n"
     ]
    }
   ],
   "source": [
    "# incrementing/decrementing attribute values with methods, best programming practice\n",
    "\n",
    "class Dog():\n",
    "    age = 5\n",
    "    def happyBirthday(self):\n",
    "        self.age += 1\n",
    "sam = Dog()\n",
    "sam.happyBirthday()\n",
    "print(sam.age)"
   ]
  },
  {
   "cell_type": "code",
   "execution_count": 27,
   "metadata": {},
   "outputs": [
    {
     "name": "stdout",
     "output_type": "stream",
     "text": [
      "Puppy!\n"
     ]
    }
   ],
   "source": [
    "# calling a class method from another method\n",
    "\n",
    "class Dog():\n",
    "    age = 6\n",
    "    def getAge(self):\n",
    "        return self.age\n",
    "    def printInfo(self):\n",
    "        if self.getAge() < 10:\n",
    "            print(\"Puppy!\")\n",
    "sam = Dog()\n",
    "sam.printInfo()"
   ]
  },
  {
   "cell_type": "code",
   "execution_count": 28,
   "metadata": {},
   "outputs": [
    {
     "name": "stdout",
     "output_type": "stream",
     "text": [
      "This is a dog class\n"
     ]
    }
   ],
   "source": [
    "# using magic methods\n",
    "\n",
    "class Dog():\n",
    "    def __str__(self):\n",
    "        return \"This is a dog class\"\n",
    "sam = Dog()\n",
    "print(sam)"
   ]
  },
  {
   "cell_type": "code",
   "execution_count": 30,
   "metadata": {},
   "outputs": [
    {
     "name": "stdout",
     "output_type": "stream",
     "text": [
      "lion\n",
      "feline\n"
     ]
    }
   ],
   "source": [
    "#Execerise 3\n",
    "\n",
    "class Animal:\n",
    "    def __init__(self, species):\n",
    "        self.species = species\n",
    "    def getSpecies(self):\n",
    "        return self.species\n",
    "    def setSpecies(self,species):\n",
    "        self.species = species\n",
    "a1 = Animal(\"lion\")\n",
    "print(a1.getSpecies())\n",
    "a1.setSpecies(\"feline\")\n",
    "print(a1.getSpecies())"
   ]
  },
  {
   "cell_type": "markdown",
   "metadata": {},
   "source": [
    "class Person:\n",
    "    def __init__(self,name):\n",
    "        self.name = name\n",
    "        self.age = 0\n",
    "    def getAge(self):\n",
    "        print(\"You are {} years old\".format(self.age))\n",
    "    def setAge(self):\n",
    "        ans = int(input(\"Please enter your age: \"))\n",
    "        self.age = ans\n",
    "p1 = Person(\"John\")\n",
    "p1.getAge()\n",
    "p1.setAge()\n",
    "p1.getAge()"
   ]
  },
  {
   "cell_type": "markdown",
   "metadata": {},
   "source": [
    "# Inheritance"
   ]
  },
  {
   "cell_type": "code",
   "execution_count": 32,
   "metadata": {},
   "outputs": [
    {
     "name": "stdout",
     "output_type": "stream",
     "text": [
      "roar\n"
     ]
    }
   ],
   "source": [
    "# inheriting a class and accessing the inherited method\n",
    "\n",
    "class Animal():\n",
    "    def makeSound(self):\n",
    "        print(\"roar\")\n",
    "class Dog(Animal):\n",
    "    species = \"Canine\"\n",
    "sam = Dog()\n",
    "sam.makeSound()\n",
    "lion = Animal()"
   ]
  },
  {
   "cell_type": "code",
   "execution_count": 33,
   "metadata": {},
   "outputs": [
    {
     "name": "stdout",
     "output_type": "stream",
     "text": [
      "Canine\n"
     ]
    }
   ],
   "source": [
    "# using the super() method to declare inherited attributes\n",
    "\n",
    "class Animal():\n",
    "    def __init__(self,species):\n",
    "        self.species = species\n",
    "class Dog(Animal):\n",
    "    def __init__(self,species,name):\n",
    "        self.name = name\n",
    "        super().__init__(species)\n",
    "sam = Dog(\"Canine\",\"Sammi\")\n",
    "print(sam.species)"
   ]
  },
  {
   "cell_type": "code",
   "execution_count": 34,
   "metadata": {},
   "outputs": [
    {
     "name": "stdout",
     "output_type": "stream",
     "text": [
      "bark\n",
      "roar\n"
     ]
    }
   ],
   "source": [
    "# overriding method defined in the superclass\n",
    "\n",
    "class Animal():\n",
    "    def makeSound(self):\n",
    "        print(\"roar\")\n",
    "class Dog(Animal):\n",
    "    def makeSound(self):\n",
    "        print(\"bark\")\n",
    "sam, lion = Dog(), Animal()\n",
    "\n",
    "sam.makeSound()\n",
    "lion.makeSound()"
   ]
  },
  {
   "cell_type": "code",
   "execution_count": 35,
   "metadata": {},
   "outputs": [
    {
     "name": "stdout",
     "output_type": "stream",
     "text": [
      "9.8 Ford\n"
     ]
    }
   ],
   "source": [
    "# how to inherit multiple classes\n",
    "\n",
    "class Physics():\n",
    "    gravity = 9.8\n",
    "    \n",
    "class Automobile():\n",
    "    def __init__(self,make,model,year):\n",
    "        self.make,self.model, self.year = make,model,year\n",
    "        \n",
    "class Ford(Physics,Automobile):\n",
    "    def __init__(self,model,year):\n",
    "        Automobile.__init__(self,\"Ford\",model,year)\n",
    "\n",
    "truck = Ford(\"F-150\",128)\n",
    "print(truck.gravity,truck.make)"
   ]
  },
  {
   "cell_type": "code",
   "execution_count": 40,
   "metadata": {},
   "outputs": [
    {
     "name": "stdout",
     "output_type": "stream",
     "text": [
      "Hello, my name is Sam and I'm one of the Good guys\n",
      "Hello, my name is Max and I'm one of the Bad guys\n",
      "Hello, my name is Dean and I'm one of the Good guys\n"
     ]
    }
   ],
   "source": [
    "# Execerise 4\n",
    "\n",
    "class Characters:\n",
    "    def __init__(self,name,team,height,weight):\n",
    "        self.name = name\n",
    "        self.team = team\n",
    "        self.height = height\n",
    "        self.weight = weight\n",
    "    def sayHello(self):\n",
    "        print(\"Hello, my name is {} and I'm one of the {} guys\".format(self.name,self.team))\n",
    "\n",
    "class G1(Characters):\n",
    "    def __init__(self,name,team,height,weight):\n",
    "        super().__init__(name,team,height,weight)\n",
    "class B1(Characters):\n",
    "    def __init__(self,name,team,height,weight):\n",
    "        super().__init__(name,team,height,weight)\n",
    "class G2(Characters):\n",
    "    def __init__(self,name,team,height,weight):\n",
    "        super().__init__(name,team,height,weight)\n",
    "\n",
    "g1 = G1(\"Sam\",\"Good\",\"6.1\",210)\n",
    "g1.sayHello()\n",
    "\n",
    "b1 = B1(\"Max\",\"Bad\",\"5.6\",130)\n",
    "b1.sayHello()\n",
    "\n",
    "g2 = G2(\"Dean\",\"Good\",\"5.9\",145)\n",
    "g2.sayHello()"
   ]
  },
  {
   "cell_type": "markdown",
   "metadata": {},
   "source": [
    "# Friday Project: Creating Blackjack"
   ]
  },
  {
   "cell_type": "code",
   "execution_count": 51,
   "metadata": {},
   "outputs": [
    {
     "name": "stdout",
     "output_type": "stream",
     "text": [
      "\n",
      "name\n",
      "==========\n",
      "2 of Diamonds\n",
      "A of Hearts\n",
      "7 of Clubs\n",
      "Total = 20\n",
      "None\n",
      "\n",
      "Dealer\n",
      "==========\n",
      "4 of Hearts\n",
      "5 of Hearts\n",
      "2 of Spades\n",
      "4 of Clubs\n",
      "5 of Diamonds\n",
      "Total = 20\n",
      "None\n",
      "You pushed , no one wins!\n"
     ]
    }
   ],
   "source": [
    "# importing necessary functions\n",
    "\n",
    "from random import randint\n",
    "from IPython.display import clear_output\n",
    "\n",
    "\n",
    "# create the blackjack class , which will hold all game methods and attributes\n",
    "\n",
    "class Blackjack():\n",
    "    def __init__(self):\n",
    "        self.deck = []\n",
    "        self.suits = (\"Spades\",\"Hearts\",\"Diamonds\",\"Clubs\")\n",
    "        self.values =(2,3,4,5,6,7,8,9,10,\"J\",\"Q\",\"K\",\"A\")\n",
    "    # create a method that creates a deck of 52 cards, each card should be a tuple with a value and suit\n",
    "    \n",
    "    def makeDeck(self):\n",
    "        for suit in self.suits:\n",
    "            for value in self.values:\n",
    "                self.deck.append((value,suit))\n",
    "    def pullCard(self):\n",
    "        return self.deck.pop(randint(0, len(self.deck)-1))\n",
    "    \n",
    "class Player():\n",
    "    def __init__(self,name):\n",
    "        self.name = name\n",
    "        self.hand = []\n",
    "    def addCard(self,card):\n",
    "        self.hand.append(card)\n",
    "    # if not dealer's turn then only show one of his cards, otherwise show all\n",
    "    \n",
    "    def showHand(self,dealer_start = True):\n",
    "        print(\"\\n{}\".format(self.name))\n",
    "        print(\"==========\")\n",
    "        for i in range(len(self.hand)):\n",
    "            if self.name == \"Dealer\" and i == 0 and dealer_start:\n",
    "                print(\"-of-\")\n",
    "            else:\n",
    "                card = self.hand[i]\n",
    "                print(\"{} of {}\".format(card[0],card[1]))\n",
    "        print(print(\"Total = {}\".format(self.calcHand(dealer_start))))\n",
    "    def calcHand(self,dealer_start = True):\n",
    "        total = 0\n",
    "        aces = 0 \n",
    "        card_values = {1:1,2:2,3:3,4:4,5:5,6:6,7:7,8:8,9:9,10:10,\"J\":10,\"Q\":10,\"K\":10,\"A\":11}\n",
    "        if self.name == \"Dealer\" and dealer_start:\n",
    "            card = self.hand[1]\n",
    "            return card_values[card[0]]\n",
    "        for card in self.hand:\n",
    "            if card[0] == \"A\":\n",
    "                aces += 1\n",
    "            else:\n",
    "                total += card_values[card[0]]\n",
    "        for i in range(aces):\n",
    "            if total + 11 > 21:\n",
    "                total  += 1\n",
    "            else:\n",
    "                total += 11\n",
    "        return total\n",
    "        \n",
    "game = Blackjack()\n",
    "game.makeDeck()\n",
    "name = input(\"What is your name?\")\n",
    "player = Player(\"name\")\n",
    "dealer = Player(\"Dealer\")\n",
    "\n",
    "for i in range(2):\n",
    "    player.addCard(game.pullCard())\n",
    "    dealer.addCard(game.pullCard())\n",
    "    \n",
    "    #print(\"Player Hand: {} \\nDealer Hand: {}\".format(player.hand,dealer.hand))\n",
    "    \n",
    "\n",
    "#print(game.pullCard(),len(game.deck) )\n",
    "player.showHand()\n",
    "dealer.showHand()\n",
    "\n",
    "player_bust = False\n",
    "\n",
    "while input(\"Would you like to stay or hit? \").lower() != \"stay\":\n",
    "    clear_output()\n",
    "    \n",
    "    player.addCard(game.pullCard())\n",
    "    \n",
    "    player.showHand()\n",
    "    dealer.showHand()\n",
    "    \n",
    "    if player.calcHand() > 21:\n",
    "        player_bust = True\n",
    "        print(\"You lose!\")\n",
    "        break\n",
    "dealer_bust = False\n",
    "\n",
    "if not player_bust:\n",
    "    while dealer.calcHand(False) < 17:\n",
    "        dealer.addCard(game.pullCard())\n",
    "        if dealer.calcHand(False) > 21:\n",
    "            dealer_bust = True\n",
    "            print(\"You win!\")\n",
    "            break\n",
    "clear_output()\n",
    "player.showHand()\n",
    "dealer.showHand(False)\n",
    "\n",
    "if player_bust:\n",
    "    print(\"You busted, better luck next time!\")\n",
    "elif dealer_bust:\n",
    "    print(\"The dealer busted, you win!\")\n",
    "elif dealer.calcHand(False) > player.calcHand():\n",
    "    print(\"Dealer has higher cards, you lose!\")\n",
    "elif dealer.calcHand(False) < player.calcHand():\n",
    "    print(\"You beat the dealer! Congrats!\" )\n",
    "else:\n",
    "    print(\"You pushed , no one wins!\")"
   ]
  },
  {
   "cell_type": "code",
   "execution_count": null,
   "metadata": {},
   "outputs": [],
   "source": [
    "\n",
    "        "
   ]
  }
 ],
 "metadata": {
  "kernelspec": {
   "display_name": "Python 3",
   "language": "python",
   "name": "python3"
  },
  "language_info": {
   "codemirror_mode": {
    "name": "ipython",
    "version": 3
   },
   "file_extension": ".py",
   "mimetype": "text/x-python",
   "name": "python",
   "nbconvert_exporter": "python",
   "pygments_lexer": "ipython3",
   "version": "3.6.5"
  }
 },
 "nbformat": 4,
 "nbformat_minor": 2
}
