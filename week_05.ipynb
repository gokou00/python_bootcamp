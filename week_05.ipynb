{
 "cells": [
  {
   "cell_type": "markdown",
   "metadata": {},
   "source": [
    "# Creating & Calling Functions"
   ]
  },
  {
   "cell_type": "code",
   "execution_count": 1,
   "metadata": {},
   "outputs": [
    {
     "name": "stdout",
     "output_type": "stream",
     "text": [
      "Name: John Smith\n",
      "Age: 45\n",
      "Name: John Smith\n",
      "Age: 45\n"
     ]
    }
   ],
   "source": [
    "# writing your first function\n",
    "def printInfo():\n",
    "    print(\"Name: John Smith\")\n",
    "    print(\"Age: 45\")\n",
    "\n",
    "printInfo()\n",
    "printInfo()"
   ]
  },
  {
   "cell_type": "code",
   "execution_count": 2,
   "metadata": {},
   "outputs": [
    {
     "name": "stdout",
     "output_type": "stream",
     "text": [
      "15\n"
     ]
    }
   ],
   "source": [
    "# performing a calculation in a function\n",
    "def calc():\n",
    "    x,y = 5,10\n",
    "    print(x + y)\n",
    "calc()"
   ]
  },
  {
   "cell_type": "code",
   "execution_count": 5,
   "metadata": {},
   "outputs": [
    {
     "name": "stdout",
     "output_type": "stream",
     "text": [
      "John Smith\n",
      "Cheese\n",
      "chicken\n",
      "double cheese\n",
      "Cheese\n",
      "chicken\n",
      "double cheese\n",
      "Cheese\n",
      "chicken\n",
      "double cheese\n"
     ]
    }
   ],
   "source": [
    "#Execerises 1\n",
    "def myName():\n",
    "    print(\"John Smith\")\n",
    "myName()\n",
    "\n",
    "def pizzaToppings():\n",
    "    print(\"Cheese\")\n",
    "    print(\"chicken\")\n",
    "    print(\"double cheese\")\n",
    "pizzaToppings()\n",
    "pizzaToppings()\n",
    "pizzaToppings()"
   ]
  },
  {
   "cell_type": "markdown",
   "metadata": {},
   "source": [
    "# Parameters"
   ]
  },
  {
   "cell_type": "code",
   "execution_count": 6,
   "metadata": {},
   "outputs": [
    {
     "name": "stdout",
     "output_type": "stream",
     "text": [
      "Your name is: John Smith\n",
      "Your name is: Amanda\n"
     ]
    }
   ],
   "source": [
    "# passing a single parameter into a function\n",
    "\n",
    "def printName(full_name):\n",
    "    print(\"Your name is: {}\".format(full_name))\n",
    "printName(\"John Smith\")\n",
    "printName(\"Amanda\")"
   ]
  },
  {
   "cell_type": "code",
   "execution_count": 7,
   "metadata": {},
   "outputs": [
    {
     "name": "stdout",
     "output_type": "stream",
     "text": [
      "5 + 8 = 13\n",
      "3.5 + 5.5 = 9.0\n"
     ]
    }
   ],
   "source": [
    "# passing multiple parameters into function\n",
    "\n",
    "def addNums(num1,num2):\n",
    "    result = num1 + num2\n",
    "    print(\"{} + {} = {}\".format(num1,num2,result))\n",
    "addNums(5,8)\n",
    "addNums(3.5,5.5)"
   ]
  },
  {
   "cell_type": "code",
   "execution_count": 8,
   "metadata": {},
   "outputs": [
    {
     "name": "stdout",
     "output_type": "stream",
     "text": [
      "4\n",
      "16\n",
      "25\n",
      "100\n",
      "1\n",
      "9\n",
      "36\n"
     ]
    }
   ],
   "source": [
    "# using a function to square all information\n",
    "\n",
    "numbers1 = [2,4,5,10]\n",
    "numbers2 = [1,3,6]\n",
    "\n",
    "def squares(nums):\n",
    "    for num in nums:\n",
    "        print(num**2)\n",
    "squares(numbers1)\n",
    "squares(numbers2)"
   ]
  },
  {
   "cell_type": "code",
   "execution_count": 9,
   "metadata": {},
   "outputs": [
    {
     "name": "stdout",
     "output_type": "stream",
     "text": [
      "Area: 12.56\n"
     ]
    }
   ],
   "source": [
    "# setting default parameter values\n",
    "\n",
    "def calcArea(r, pi = 3.14):\n",
    "    area = pi * (r**2)\n",
    "    print(\"Area: {}\".format(area))\n",
    "calcArea(2)"
   ]
  },
  {
   "cell_type": "code",
   "execution_count": 10,
   "metadata": {},
   "outputs": [
    {
     "name": "stdout",
     "output_type": "stream",
     "text": [
      "John Smith\n",
      "John Paul Smith\n"
     ]
    }
   ],
   "source": [
    "# setting default parameter values\n",
    "\n",
    "def printName(first,last,middle=\"\"):\n",
    "    if middle:\n",
    "        print(\"{} {} {}\".format(first,middle,last))\n",
    "    else:\n",
    "        print(\"{} {}\".format(first,last))\n",
    "\n",
    "printName(\"John\",\"Smith\")\n",
    "printName(\"John\",\"Smith\",\"Paul\")\n"
   ]
  },
  {
   "cell_type": "code",
   "execution_count": 11,
   "metadata": {},
   "outputs": [
    {
     "name": "stdout",
     "output_type": "stream",
     "text": [
      "2.5\n",
      "5\n"
     ]
    }
   ],
   "source": [
    "#explicity assigning values to parameters by referencing the name\n",
    "def addNums(num1,num2):\n",
    "    print(num2)\n",
    "    print(num1)\n",
    "addNums(5, num2 = 2.5)"
   ]
  },
  {
   "cell_type": "code",
   "execution_count": 12,
   "metadata": {},
   "outputs": [
    {
     "name": "stdout",
     "output_type": "stream",
     "text": [
      "<class 'tuple'>\n",
      "5\n",
      "True\n",
      "Jess\n"
     ]
    }
   ],
   "source": [
    "# using args parameter to take in a tuple of arbitary values\n",
    "\n",
    "def outputData(name,*args):\n",
    "    print(type(args))\n",
    "    for arg in args:\n",
    "        print(arg)\n",
    "        \n",
    "outputData(\"John Smith\",5,True,\"Jess\")"
   ]
  },
  {
   "cell_type": "code",
   "execution_count": 13,
   "metadata": {},
   "outputs": [
    {
     "name": "stdout",
     "output_type": "stream",
     "text": [
      "<class 'dict'>\n",
      "John Smith\n",
      "5\n"
     ]
    }
   ],
   "source": [
    "# using kwargs parameter to take in a dictionary of arbitary values\n",
    "\n",
    "def outputData(**kwargs):\n",
    "    print(type(kwargs))\n",
    "    print(kwargs[\"name\"])\n",
    "    print(kwargs[\"num\"])\n",
    "outputData(name = \"John Smith\",num = 5, b = True)"
   ]
  },
  {
   "cell_type": "code",
   "execution_count": 19,
   "metadata": {},
   "outputs": [
    {
     "name": "stdout",
     "output_type": "stream",
     "text": [
      "Please enter a word: Test\n",
      "True\n",
      "Enter your first name: John\n",
      "Enter your last name: Doe\n",
      "Hello John Doe\n"
     ]
    }
   ],
   "source": [
    "# Exercises 2\n",
    "\n",
    "ans = input(\"Please enter a word: \")\n",
    "\n",
    "def firstCheck(name):\n",
    "    if name == name.capitalize():\n",
    "        return True\n",
    "    else:\n",
    "        return False\n",
    "\n",
    "print(firstCheck(ans))\n",
    "\n",
    "fname = input(\"Enter your first name: \")\n",
    "lname = input(\"Enter your last name: \")\n",
    "\n",
    "def nameCheck(fname = \"\",lname = \"\"):\n",
    "    if len(fname) == 0 and len(lname) == 0:\n",
    "        return \"No name given\"\n",
    "    return \"Hello {} {}\".format(fname,lname)\n",
    "print(nameCheck(fname,lname))"
   ]
  },
  {
   "cell_type": "markdown",
   "metadata": {},
   "source": [
    "# Return Statement"
   ]
  },
  {
   "cell_type": "code",
   "execution_count": 21,
   "metadata": {},
   "outputs": [
    {
     "name": "stdout",
     "output_type": "stream",
     "text": [
      "10.0\n",
      "20\n"
     ]
    }
   ],
   "source": [
    "#using return keyword to return the sum of two numbers\n",
    "def addNums(num1,num2):\n",
    "    return num1 + num2\n",
    "\n",
    "num = addNums(5.5,4.5)\n",
    "print(num)\n",
    "print(addNums(10,10))"
   ]
  },
  {
   "cell_type": "code",
   "execution_count": 22,
   "metadata": {},
   "outputs": [
    {
     "name": "stdout",
     "output_type": "stream",
     "text": [
      "True\n"
     ]
    }
   ],
   "source": [
    "# shorthand using ternary operator\n",
    "\n",
    "def searchList(aList,el):\n",
    "    return True if el in aList else False\n",
    "\n",
    "result = searchList([\"one\",2,\"three\"],2)\n",
    "print(result)"
   ]
  },
  {
   "cell_type": "code",
   "execution_count": 24,
   "metadata": {},
   "outputs": [
    {
     "name": "stdout",
     "output_type": "stream",
     "text": [
      "John Smith\n",
      "Please enter a phrase: Four score and seven years ago\n",
      "Four score and seven years ago\n"
     ]
    }
   ],
   "source": [
    "#Execerises 3\n",
    "\n",
    "def fullName(fname,lname):\n",
    "    return fname + \" \" + lname\n",
    "fname = \"John\"\n",
    "lname = \"Smith\"\n",
    "result1 = fullName(fname,lname)\n",
    "print(result1)\n",
    "\n",
    "def userInput():\n",
    "    return input(\"Please enter a phrase: \")\n",
    "\n",
    "res2 = userInput()\n",
    "print(res2)"
   ]
  },
  {
   "cell_type": "markdown",
   "metadata": {},
   "source": [
    "# Scope"
   ]
  },
  {
   "cell_type": "code",
   "execution_count": 25,
   "metadata": {},
   "outputs": [
    {
     "ename": "UnboundLocalError",
     "evalue": "local variable 'number' referenced before assignment",
     "output_type": "error",
     "traceback": [
      "\u001b[1;31m---------------------------------------------------------------------------\u001b[0m",
      "\u001b[1;31mUnboundLocalError\u001b[0m                         Traceback (most recent call last)",
      "\u001b[1;32m<ipython-input-25-20d20afab4c4>\u001b[0m in \u001b[0;36m<module>\u001b[1;34m()\u001b[0m\n\u001b[0;32m      5\u001b[0m \u001b[1;32mdef\u001b[0m \u001b[0mscopeTest\u001b[0m\u001b[1;33m(\u001b[0m\u001b[1;33m)\u001b[0m\u001b[1;33m:\u001b[0m\u001b[1;33m\u001b[0m\u001b[0m\n\u001b[0;32m      6\u001b[0m     \u001b[0mnumber\u001b[0m \u001b[1;33m+=\u001b[0m \u001b[1;36m1\u001b[0m\u001b[1;33m\u001b[0m\u001b[0m\n\u001b[1;32m----> 7\u001b[1;33m \u001b[0mscopeTest\u001b[0m\u001b[1;33m(\u001b[0m\u001b[1;33m)\u001b[0m\u001b[1;33m\u001b[0m\u001b[0m\n\u001b[0m",
      "\u001b[1;32m<ipython-input-25-20d20afab4c4>\u001b[0m in \u001b[0;36mscopeTest\u001b[1;34m()\u001b[0m\n\u001b[0;32m      4\u001b[0m \u001b[1;33m\u001b[0m\u001b[0m\n\u001b[0;32m      5\u001b[0m \u001b[1;32mdef\u001b[0m \u001b[0mscopeTest\u001b[0m\u001b[1;33m(\u001b[0m\u001b[1;33m)\u001b[0m\u001b[1;33m:\u001b[0m\u001b[1;33m\u001b[0m\u001b[0m\n\u001b[1;32m----> 6\u001b[1;33m     \u001b[0mnumber\u001b[0m \u001b[1;33m+=\u001b[0m \u001b[1;36m1\u001b[0m\u001b[1;33m\u001b[0m\u001b[0m\n\u001b[0m\u001b[0;32m      7\u001b[0m \u001b[0mscopeTest\u001b[0m\u001b[1;33m(\u001b[0m\u001b[1;33m)\u001b[0m\u001b[1;33m\u001b[0m\u001b[0m\n",
      "\u001b[1;31mUnboundLocalError\u001b[0m: local variable 'number' referenced before assignment"
     ]
    }
   ],
   "source": [
    "# where global variables can be accessed\n",
    "\n",
    "number = 5\n",
    "\n",
    "def scopeTest():\n",
    "    number += 1\n",
    "scopeTest()\n"
   ]
  },
  {
   "cell_type": "code",
   "execution_count": 26,
   "metadata": {},
   "outputs": [
    {
     "name": "stdout",
     "output_type": "stream",
     "text": [
      "function\n"
     ]
    }
   ],
   "source": [
    "# accessing variables defined in a function\n",
    "\n",
    "def scopeTest():\n",
    "    word = \"function\"\n",
    "    return word\n",
    "value = scopeTest()\n",
    "print(value)"
   ]
  },
  {
   "cell_type": "code",
   "execution_count": 27,
   "metadata": {},
   "outputs": [
    {
     "name": "stdout",
     "output_type": "stream",
     "text": [
      "Before Altering: ['baseball', 'football', 'hockey', 'basketball']\n",
      "After Altering: ['soccer', 'football', 'hockey', 'basketball']\n"
     ]
    }
   ],
   "source": [
    "# changing list item values by index\n",
    "\n",
    "sports = [\"baseball\",\"football\",\"hockey\",\"basketball\"]\n",
    "\n",
    "def change(aList):\n",
    "    aList[0] = \"soccer\"\n",
    "    \n",
    "print(\"Before Altering: {}\".format(sports))\n",
    "change(sports)\n",
    "print(\"After Altering: {}\".format(sports))"
   ]
  },
  {
   "cell_type": "code",
   "execution_count": 29,
   "metadata": {},
   "outputs": [
    {
     "name": "stdout",
     "output_type": "stream",
     "text": [
      "Before Altering: ['Bob', 'Ted', 'Ned', 'Sue', 'Mary']\n",
      "After Altering: ['Bob', 'Ted', 'Timmy', 'Sue', 'Mary']\n"
     ]
    }
   ],
   "source": [
    "#exercise 4\n",
    "\n",
    "eList = [\"Bob\", \"Ted\",\"Ned\",\"Sue\",\"Mary\"]\n",
    "\n",
    "def changeValue(aList,name,index):\n",
    "    if index < len(aList):\n",
    "        aList[index] = name\n",
    "    else:\n",
    "        print(\"{} is too high there are only {} names in the list\".format(index,aList))\n",
    "print(\"Before Altering: {}\".format(eList))\n",
    "changeValue(eList,\"Timmy\",2)\n",
    "print(\"After Altering: {}\".format(eList))"
   ]
  },
  {
   "cell_type": "markdown",
   "metadata": {},
   "source": [
    "# Friday Project: Creating a Shopping Cart"
   ]
  },
  {
   "cell_type": "code",
   "execution_count": 33,
   "metadata": {},
   "outputs": [
    {
     "name": "stdout",
     "output_type": "stream",
     "text": [
      "Your cart is empty.\n"
     ]
    }
   ],
   "source": [
    "# import necessary functions\n",
    "from IPython.display import clear_output\n",
    "# global list variable\n",
    "\n",
    "cart = []\n",
    "\n",
    "\n",
    "# function to add items to the cart\n",
    "\n",
    "def addItem(item):\n",
    "    clear_output()\n",
    "    cart.append(item)\n",
    "    print(\"{} has been added.\".format(item))\n",
    "\n",
    "#function to remove an items from the list\n",
    "\n",
    "def removeItem(item):\n",
    "    clear_output()\n",
    "    try:\n",
    "        cart.remove(item)\n",
    "        print(\"{} has been removed.\".format(item))\n",
    "    except:\n",
    "        print(\"Sorry we could not remove that item.\")\n",
    "#function to show items in the cart\n",
    "\n",
    "def showCart():\n",
    "    clear_output()\n",
    "    if cart:\n",
    "        print(\"Here is your cart: \")\n",
    "        for item in cart:\n",
    "            print(\"- {}\".format(item))\n",
    "    else:\n",
    "        print(\"Your cart is empty.\")\n",
    "        \n",
    "# function to clear the cart\n",
    "\n",
    "def clearCart():\n",
    "    clear_output()\n",
    "    cart.clear()\n",
    "    print(\"Your cart emppty.\")\n",
    "\n",
    "    \n",
    "# main function that loops until the user quits\n",
    "\n",
    "def main():\n",
    "    done = False\n",
    "    \n",
    "    while not done:\n",
    "        ans = input(\"quit/add/remove/show/clear: \").lower()\n",
    "        \n",
    "        # base case\n",
    "        \n",
    "        if ans == \"quit\":\n",
    "            print(\"Thanks for using our program.\")\n",
    "            showCart()\n",
    "            done = True\n",
    "        elif ans == \"add\":\n",
    "            item = input(\"What would you like to add? \").title()\n",
    "            addItem(item)\n",
    "        elif ans == \"remove\":\n",
    "            showCart()\n",
    "            item =  input(\"What item would you like to remove? \").title()\n",
    "            removeItem(item)\n",
    "        elif ans == \"show\":\n",
    "            showCart()\n",
    "        elif ans == \"clear\":\n",
    "            clearCart()\n",
    "        else:\n",
    "            print(\"Sorry that was not an option.\")\n",
    "main()"
   ]
  },
  {
   "cell_type": "code",
   "execution_count": null,
   "metadata": {},
   "outputs": [],
   "source": []
  }
 ],
 "metadata": {
  "kernelspec": {
   "display_name": "Python 3",
   "language": "python",
   "name": "python3"
  },
  "language_info": {
   "codemirror_mode": {
    "name": "ipython",
    "version": 3
   },
   "file_extension": ".py",
   "mimetype": "text/x-python",
   "name": "python",
   "nbconvert_exporter": "python",
   "pygments_lexer": "ipython3",
   "version": "3.6.5"
  }
 },
 "nbformat": 4,
 "nbformat_minor": 2
}
