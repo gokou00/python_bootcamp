{
 "cells": [
  {
   "cell_type": "markdown",
   "metadata": {},
   "source": [
    "# User input & Type Converting"
   ]
  },
  {
   "cell_type": "code",
   "execution_count": 1,
   "metadata": {},
   "outputs": [],
   "source": [
    "# Answer to Challenge Question\n",
    "#Football is my favorite sport"
   ]
  },
  {
   "cell_type": "code",
   "execution_count": 2,
   "metadata": {},
   "outputs": [
    {
     "name": "stdout",
     "output_type": "stream",
     "text": [
      "What is your name? Tom\n",
      "Tom\n"
     ]
    }
   ],
   "source": [
    "# accepting and outputting user input\n",
    "\n",
    "print(input(\"What is your name? \"))"
   ]
  },
  {
   "cell_type": "code",
   "execution_count": 3,
   "metadata": {},
   "outputs": [
    {
     "name": "stdout",
     "output_type": "stream",
     "text": [
      "what is your name?Tom\n",
      "Hello Tom!\n"
     ]
    }
   ],
   "source": [
    "# saving what the user inputs\n",
    "ans = input(\"what is your name?\")\n",
    "print(\"Hello {}!\".format(ans))"
   ]
  },
  {
   "cell_type": "code",
   "execution_count": 4,
   "metadata": {},
   "outputs": [
    {
     "name": "stdout",
     "output_type": "stream",
     "text": [
      "<class 'int'>\n"
     ]
    }
   ],
   "source": [
    "# how to check the type of a variable \n",
    "num = 5\n",
    "\n",
    "print(type(num))"
   ]
  },
  {
   "cell_type": "code",
   "execution_count": 5,
   "metadata": {},
   "outputs": [
    {
     "name": "stdout",
     "output_type": "stream",
     "text": [
      "<class 'int'>\n"
     ]
    }
   ],
   "source": [
    "# converting a variable from one data type to another \n",
    "\n",
    "num = \"9\"\n",
    "num = int(num)\n",
    "print(type(num))"
   ]
  },
  {
   "cell_type": "code",
   "execution_count": 6,
   "metadata": {},
   "outputs": [
    {
     "name": "stdout",
     "output_type": "stream",
     "text": [
      "Type a number to add: 5\n",
      "<class 'str'>\n",
      "100 +5 = 105\n"
     ]
    }
   ],
   "source": [
    "# working with user input to perform calculations\n",
    "ans = input(\"Type a number to add: \")\n",
    "print(type(ans))\n",
    "result = 100 + int(ans)\n",
    "print(\"100 +{} = {}\".format(ans,result))"
   ]
  },
  {
   "cell_type": "code",
   "execution_count": 7,
   "metadata": {},
   "outputs": [
    {
     "name": "stdout",
     "output_type": "stream",
     "text": [
      "Type a number to add: R\n",
      "You did not provide a valid number\n",
      "The program did not break\n"
     ]
    }
   ],
   "source": [
    "# using the try and except blocks, use tab to indent where necessary\n",
    "try:\n",
    "    ans = float(input(\"Type a number to add: \"))\n",
    "    print(\"100 + {} = {}\".format(ans, ans+100))\n",
    "except:\n",
    "    print(\"You did not provide a valid number\")\n",
    "    print(\"The program did not break\")"
   ]
  },
  {
   "cell_type": "code",
   "execution_count": 8,
   "metadata": {},
   "outputs": [
    {
     "name": "stdout",
     "output_type": "stream",
     "text": [
      "<class 'bool'>\n",
      "Please enter the first number to add: 2000\n",
      "Please enter the second number to add: 7\n",
      "2000 + 7 = 2007\n",
      "Please enter the year your car was made :2000\n",
      "Please enter the car model: Silverado\n",
      "Please enter the car's color: Blue\n",
      "Please enter the make of the car: Chevrolet\n",
      "2000 Blue Chevrolet Silverado\n"
     ]
    }
   ],
   "source": [
    "#Execerise 1\n",
    "print(type(bool(\"True\")))\n",
    "\n",
    "ans1 = int(input(\"Please enter the first number to add: \"))\n",
    "ans2 = int(input(\"Please enter the second number to add: \"))\n",
    "\n",
    "print(\"{} + {} = {}\".format(ans1,ans2,ans1+ans2))\n",
    "\n",
    "\n",
    "year = input(\"Please enter the year your car was made :\")\n",
    "model = input(\"Please enter the car model: \")\n",
    "color = input(\"Please enter the car's color: \")\n",
    "make = input(\"Please enter the make of the car: \")\n",
    "print(\"{} {} {} {}\".format(year,color,make,model))"
   ]
  },
  {
   "cell_type": "markdown",
   "metadata": {},
   "source": [
    "# If statements"
   ]
  },
  {
   "cell_type": "code",
   "execution_count": 9,
   "metadata": {},
   "outputs": [
    {
     "name": "stdout",
     "output_type": "stream",
     "text": [
      "x is less than y\n"
     ]
    }
   ],
   "source": [
    "# using an if statement to only run code if the condition is met\n",
    "x,y = 5,10\n",
    "\n",
    "if x < y:\n",
    "    print(\"x is less than y\")"
   ]
  },
  {
   "cell_type": "code",
   "execution_count": 10,
   "metadata": {},
   "outputs": [
    {
     "name": "stdout",
     "output_type": "stream",
     "text": [
      "What is 5 + 5 ?10\n",
      "You are correct\n"
     ]
    }
   ],
   "source": [
    "# checking user input\n",
    "\n",
    "ans = int(input(\"What is 5 + 5 ?\"))\n",
    "\n",
    "if ans == 10:\n",
    "    print(\"You are correct\")\n",
    "else:\n",
    "    print(\"Try again\")"
   ]
  },
  {
   "cell_type": "code",
   "execution_count": 11,
   "metadata": {},
   "outputs": [
    {
     "name": "stdout",
     "output_type": "stream",
     "text": [
      "Both statement were true\n"
     ]
    }
   ],
   "source": [
    "# using the keyword \"and\" in an \"if statement\"\n",
    "x,y,z = 5,10,5\n",
    "\n",
    "if x < y and x == z:\n",
    "    print(\"Both statement were true\")"
   ]
  },
  {
   "cell_type": "code",
   "execution_count": 12,
   "metadata": {},
   "outputs": [
    {
     "name": "stdout",
     "output_type": "stream",
     "text": [
      "One or both statements were true\n"
     ]
    }
   ],
   "source": [
    "# using the keyword \"or\" in an if statement\n",
    "\n",
    "x,y,z = 5,10,5\n",
    "if x < y or x != z:\n",
    "    print(\"One or both statements were true\")"
   ]
  },
  {
   "cell_type": "code",
   "execution_count": 13,
   "metadata": {},
   "outputs": [
    {
     "name": "stdout",
     "output_type": "stream",
     "text": [
      "Flag is False\n"
     ]
    }
   ],
   "source": [
    "# using the keyword \"not\" within an if statement\n",
    "\n",
    "flag = False\n",
    "if not flag:\n",
    "    print(\"Flag is False\")"
   ]
  },
  {
   "cell_type": "code",
   "execution_count": 14,
   "metadata": {},
   "outputs": [
    {
     "name": "stdout",
     "output_type": "stream",
     "text": [
      "Baseball contains the character b\n"
     ]
    }
   ],
   "source": [
    "# using the keyword \"in\" within an if statement\n",
    "word = \"Baseball\"\n",
    "if \"b\" in word:\n",
    "    print(\"{} contains the character b\".format(word))"
   ]
  },
  {
   "cell_type": "code",
   "execution_count": 15,
   "metadata": {},
   "outputs": [
    {
     "name": "stdout",
     "output_type": "stream",
     "text": [
      "Baseball does not contain the character x\n"
     ]
    }
   ],
   "source": [
    "# using the keyword \"not in \" within an if statement\n",
    "word = \"Baseball\"\n",
    "\n",
    "if \"x\" not in word:\n",
    "    print(\"{} does not contain the character x\".format(word))"
   ]
  },
  {
   "cell_type": "code",
   "execution_count": 16,
   "metadata": {},
   "outputs": [
    {
     "name": "stdout",
     "output_type": "stream",
     "text": [
      "Please type in a word or sentence: makes\n",
      "makes contains the letters es\n",
      "Please type in a word or sentence: making\n",
      "making ends with ing\n",
      "Please enter first word Tom\n",
      "Please enter second word tom\n",
      "they are equal\n",
      "Please enter a number:6\n",
      "the sqaure of 6 is 36\n"
     ]
    }
   ],
   "source": [
    "# Execerise 2\n",
    "ans = input(\"Please type in a word or sentence: \")\n",
    "\n",
    "if \"es\" in ans:\n",
    "    print(\"{} contains the letters es\".format(ans))\n",
    "else:\n",
    "    print(\"{} does not contain the letters es\".format(ans))\n",
    "\n",
    "ans2 = input(\"Please type in a word or sentence: \")\n",
    "\n",
    "if \"ing\" in ans2[-3:]:\n",
    "    print(\"{} ends with ing\".format(ans2))\n",
    "else:\n",
    "    print(\"{} does not end with ing\".format(ans2))\n",
    "\n",
    "    \n",
    "ans3 = input(\"Please enter first word \").lower()\n",
    "ans4 = input(\"Please enter second word \").lower()\n",
    "\n",
    "if ans3 == ans4:\n",
    "    print(\"they are equal\")\n",
    "else:\n",
    "    print(\"not equal\")\n",
    "\n",
    "ans5 = int(input(\"Please enter a number:\"))\n",
    "\n",
    "if ans5 < 10:\n",
    "    print(\"the sqaure of {} is {}\".format(ans5,ans5**2))\n",
    "else:\n",
    "    print(\"Number is too high\")"
   ]
  },
  {
   "cell_type": "markdown",
   "metadata": {},
   "source": [
    "# Elif statements"
   ]
  },
  {
   "cell_type": "code",
   "execution_count": 18,
   "metadata": {},
   "outputs": [
    {
     "name": "stdout",
     "output_type": "stream",
     "text": [
      "x is less\n"
     ]
    }
   ],
   "source": [
    "# using the elif conditional statement\n",
    "x,y = 5, 10\n",
    "if x > y:\n",
    "    print(\"x is greater\")\n",
    "elif x < y:\n",
    "    print(\"x is less\")"
   ]
  },
  {
   "cell_type": "code",
   "execution_count": 19,
   "metadata": {},
   "outputs": [
    {
     "name": "stdout",
     "output_type": "stream",
     "text": [
      "equal\n"
     ]
    }
   ],
   "source": [
    "#checking more than one elif conditional statement\n",
    "\n",
    "x,y = 5,10\n",
    "\n",
    "if x > y:\n",
    "    print(\"x is greater\")\n",
    "elif (x+10) < y:\n",
    "    print(\"x is less\")\n",
    "elif (x + 5) == y:\n",
    "    print(\"equal\")"
   ]
  },
  {
   "cell_type": "code",
   "execution_count": 20,
   "metadata": {},
   "outputs": [
    {
     "name": "stdout",
     "output_type": "stream",
     "text": [
      "x is equal to z\n"
     ]
    }
   ],
   "source": [
    "# writing multiple conditionals within each other - multiple block levels\n",
    "\n",
    "x, y, z = 5,10,5\n",
    "\n",
    "if x > y:\n",
    "    print(\"greater\")\n",
    "elif x <= y:\n",
    "    if x == z:\n",
    "        print(\"x is equal to z\")\n",
    "    elif x != z:\n",
    "        print(\"x is not equal to z\")\n"
   ]
  },
  {
   "cell_type": "code",
   "execution_count": 21,
   "metadata": {},
   "outputs": [
    {
     "name": "stdout",
     "output_type": "stream",
     "text": [
      "x is less\n",
      "x is equal\n"
     ]
    }
   ],
   "source": [
    "# testing output of two if statements in a row that are both true\n",
    "\n",
    "x,y,z = 5,10,5\n",
    "\n",
    "if x < y:\n",
    "    print(\"x is less\")\n",
    "if x == z:\n",
    "    print(\"x is equal\")\n",
    "    "
   ]
  },
  {
   "cell_type": "code",
   "execution_count": 22,
   "metadata": {},
   "outputs": [
    {
     "name": "stdout",
     "output_type": "stream",
     "text": [
      "x is less\n"
     ]
    }
   ],
   "source": [
    "#testing output of an if and elif statement that are both true\n",
    "\n",
    "x,y,z = 5,10,5\n",
    "\n",
    "if x < y:\n",
    "    print(\"x is less\")\n",
    "elif x == z:\n",
    "    print(\"x is equal to z\")\n"
   ]
  },
  {
   "cell_type": "code",
   "execution_count": 23,
   "metadata": {},
   "outputs": [
    {
     "name": "stdout",
     "output_type": "stream",
     "text": [
      "Please enter a number: 101\n",
      "greater\n",
      "lower\n"
     ]
    }
   ],
   "source": [
    "#Execerise 3\n",
    "\n",
    "ans = int(input(\"Please enter a number: \"))\n",
    "\n",
    "if ans < 100:\n",
    "    print(\"Lower\")\n",
    "elif ans > 100:\n",
    "    print(\"greater\")\n",
    "\n",
    "    \n",
    "x,y = 5,10\n",
    "if x > y:\n",
    "    print(\"greater\")\n",
    "elif x < y:\n",
    "    print(\"lower\")"
   ]
  },
  {
   "cell_type": "markdown",
   "metadata": {},
   "source": [
    "# Else Statements"
   ]
  },
  {
   "cell_type": "code",
   "execution_count": 1,
   "metadata": {},
   "outputs": [
    {
     "name": "stdout",
     "output_type": "stream",
     "text": [
      "Hello John!\n"
     ]
    }
   ],
   "source": [
    "# using an else statement\n",
    "name = \"John\"\n",
    "if name == \"Jacob\":\n",
    "    print(\"Hello Jacob!\")\n",
    "else:\n",
    "    print(\"Hello {}!\".format(name))"
   ]
  },
  {
   "cell_type": "code",
   "execution_count": 2,
   "metadata": {},
   "outputs": [
    {
     "name": "stdout",
     "output_type": "stream",
     "text": [
      "Name starts with a J\n"
     ]
    }
   ],
   "source": [
    "# writing a full conditional statement with if, elif, else\n",
    "\n",
    "name = \"John\"\n",
    "if name[0] == \"A\":\n",
    "    print(\"Name starts with an A\")\n",
    "elif name[0] == \"B\":\n",
    "    print(\"Name starts with a B\")\n",
    "elif name[0] == \"J\":\n",
    "    print(\"Name starts with a J\")\n",
    "else:\n",
    "    print(\"Name starts with a {}\".format(name[0]))"
   ]
  },
  {
   "cell_type": "code",
   "execution_count": 4,
   "metadata": {},
   "outputs": [
    {
     "name": "stdout",
     "output_type": "stream",
     "text": [
      "Hello John\n",
      "Please enter the time using military time: 1230\n",
      "Good Afternoon\n"
     ]
    }
   ],
   "source": [
    "#Execerise 4\n",
    "\n",
    "name = \"John\"\n",
    "\n",
    "if name == \"Jack\":\n",
    "    print(\"Hello Jack\")\n",
    "else:\n",
    "    print(\"Hello {}\".format(name))\n",
    "\n",
    "ans = int(input(\"Please enter the time using military time: \"))\n",
    "\n",
    "if ans < 1200:\n",
    "    print(\"Good morning\")\n",
    "elif ans >= 1200 and ans < 1700:\n",
    "    print(\"Good Afternoon\")\n",
    "elif ans >= 1700:\n",
    "    print(\"Good evening\")\n",
    "    "
   ]
  },
  {
   "cell_type": "code",
   "execution_count": 6,
   "metadata": {},
   "outputs": [
    {
     "name": "stdout",
     "output_type": "stream",
     "text": [
      "Options of the operations available\n",
      "For addition type add\n",
      "For substraction type sub\n",
      "For multiplication type mul\n",
      "For division type div\n",
      "Please enter the operation you would like to perform: div\n",
      "Please enter num1: 7\n",
      "Please enter num2: 9\n",
      "The answer of 9.0 / 7.0 = 1.2857142857142858\n"
     ]
    }
   ],
   "source": [
    "# week 3 project simple calculator\n",
    "print(\"Options of the operations available\")\n",
    "\n",
    "print(\"For addition type add\")\n",
    "print(\"For substraction type sub\")\n",
    "print(\"For multiplication type mul\")\n",
    "print(\"For division type div\")\n",
    "\n",
    "ans = input(\"Please enter the operation you would like to perform: \").lower()\n",
    "\n",
    "num1 = float(input(\"Please enter num1: \"))\n",
    "num2 = float(input(\"Please enter num2: \"))\n",
    "\n",
    "try:\n",
    "    if ans == \"add\":\n",
    "        print(\"The answer of {} + {} = {}\".format(num1,num2,num1+num2))\n",
    "    elif ans == \"sub\":\n",
    "        print(\"The answer of {} - {} = {}\".format(num2,num1,num2-num1))\n",
    "    elif ans == \"mul\":\n",
    "        print(\"The answer of {} * {} = {}\".format(num1,num2,num1*num2))\n",
    "    elif ans == \"div\":\n",
    "        print(\"The answer of {} / {} = {}\".format(num2,num1,num2/num1))\n",
    "except:\n",
    "    print(\"Error\")\n",
    "        \n",
    "\n",
    "\n"
   ]
  },
  {
   "cell_type": "code",
   "execution_count": null,
   "metadata": {},
   "outputs": [],
   "source": []
  }
 ],
 "metadata": {
  "kernelspec": {
   "display_name": "Python 3",
   "language": "python",
   "name": "python3"
  },
  "language_info": {
   "codemirror_mode": {
    "name": "ipython",
    "version": 3
   },
   "file_extension": ".py",
   "mimetype": "text/x-python",
   "name": "python",
   "nbconvert_exporter": "python",
   "pygments_lexer": "ipython3",
   "version": "3.6.5"
  }
 },
 "nbformat": 4,
 "nbformat_minor": 2
}
