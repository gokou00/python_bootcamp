{
 "cells": [
  {
   "cell_type": "markdown",
   "metadata": {},
   "source": [
    "# Dictionaries"
   ]
  },
  {
   "cell_type": "code",
   "execution_count": 1,
   "metadata": {},
   "outputs": [
    {
     "name": "stdout",
     "output_type": "stream",
     "text": [
      "{'name': 'Morty', 'age': 26}\n"
     ]
    }
   ],
   "source": [
    "# delaring a dictionary variable \n",
    "empty = {}\n",
    "person = {\"name\":\"John Smtih\"}\n",
    "\n",
    "customer = {\n",
    "    \"name\":\"Morty\",\n",
    "    \"age\":26\n",
    "}\n",
    "\n",
    "print(customer)"
   ]
  },
  {
   "cell_type": "code",
   "execution_count": 2,
   "metadata": {},
   "outputs": [
    {
     "name": "stdout",
     "output_type": "stream",
     "text": [
      "John\n"
     ]
    }
   ],
   "source": [
    "# accessing dicitionary info through keys\n",
    "\n",
    "person = {\"name\":\"John\"}\n",
    "print(person[\"name\"])"
   ]
  },
  {
   "cell_type": "code",
   "execution_count": 3,
   "metadata": {},
   "outputs": [
    {
     "name": "stdout",
     "output_type": "stream",
     "text": [
      "John\n",
      "Age is not available.\n"
     ]
    }
   ],
   "source": [
    "#using the get method to access dictionary info\n",
    "\n",
    "person = {\"name\":\"John\"}\n",
    "print(person.get(\"name\"))\n",
    "\n",
    "print(person.get(\"age\",\"Age is not available.\"))"
   ]
  },
  {
   "cell_type": "code",
   "execution_count": 4,
   "metadata": {},
   "outputs": [
    {
     "name": "stdout",
     "output_type": "stream",
     "text": [
      "baseball\n"
     ]
    }
   ],
   "source": [
    "# storing a list within a dictionary and accessing it\n",
    "\n",
    "data = {\"sports\": [\"baseball\",\"football\",\"hockey\",\"soccer\"]}\n",
    "print(data[\"sports\"][0])"
   ]
  },
  {
   "cell_type": "code",
   "execution_count": 5,
   "metadata": {},
   "outputs": [
    {
     "name": "stdout",
     "output_type": "stream",
     "text": [
      "{'name': 'Kirsten'}\n",
      "Kirsten\n"
     ]
    }
   ],
   "source": [
    "# storing a dictionary within a list and accessing it\n",
    "\n",
    "data = [\"John\",\"Dennis\",{\"name\":\"Kirsten\"}]\n",
    "print(data[2])\n",
    "print(data[2][\"name\"])"
   ]
  },
  {
   "cell_type": "code",
   "execution_count": 8,
   "metadata": {},
   "outputs": [
    {
     "name": "stdout",
     "output_type": "stream",
     "text": [
      "{'2018': 108, '2017': 93}\n",
      "108\n"
     ]
    }
   ],
   "source": [
    "# storing a dictionary within a dictionary and accessing it\n",
    "\n",
    "data = {\n",
    "    \"team\": \"Boston Red Sox\",\n",
    "    \"wins\": {\"2018\":108, \"2017\":93}\n",
    "}\n",
    "\n",
    "print(data[\"wins\"])\n",
    "print(data[\"wins\"][\"2018\"])"
   ]
  },
  {
   "cell_type": "code",
   "execution_count": 9,
   "metadata": {},
   "outputs": [
    {
     "name": "stdout",
     "output_type": "stream",
     "text": [
      "Please enter your name: John Smith\n",
      "Please enter your age: 42\n",
      "{'John Smith': 42}\n",
      "cheese\n",
      "sausage\n",
      "peppers\n"
     ]
    }
   ],
   "source": [
    "#Execerises 1\n",
    "\n",
    "name = input(\"Please enter your name: \")\n",
    "age = int(input(\"Please enter your age: \"))\n",
    "d1 = {name:age}\n",
    "print(d1)\n",
    "\n",
    "pizza = {\n",
    "    \"ingredients\":[\"cheese\",\"sausage\",\"peppers\"]\n",
    "}\n",
    "\n",
    "for x in pizza[\"ingredients\"]:\n",
    "    print(x)"
   ]
  },
  {
   "cell_type": "markdown",
   "metadata": {},
   "source": [
    "# Working with Dictionaries"
   ]
  },
  {
   "cell_type": "code",
   "execution_count": 10,
   "metadata": {},
   "outputs": [
    {
     "name": "stdout",
     "output_type": "stream",
     "text": [
      "Year: 2018 \t Color: Blue\n"
     ]
    }
   ],
   "source": [
    "# adding new key/value pairs to a dictionary\n",
    "car = {\"year\":2018}\n",
    "car[\"color\"] = \"Blue\"\n",
    "print(\"Year: {} \\t Color: {}\".format(car[\"year\"],car[\"color\"]))"
   ]
  },
  {
   "cell_type": "code",
   "execution_count": 11,
   "metadata": {},
   "outputs": [
    {
     "name": "stdout",
     "output_type": "stream",
     "text": [
      "Year: 2018 \t Color: Red\n"
     ]
    }
   ],
   "source": [
    "# updating a value for a key/value pair that already exists\n",
    "\n",
    "car = {\"year\":2018,\"color\":\"Blue\"}\n",
    "car[\"color\"] = \"Red\"\n",
    "print(\"Year: {} \\t Color: {}\".format(car[\"year\"],car[\"color\"]))"
   ]
  },
  {
   "cell_type": "code",
   "execution_count": 12,
   "metadata": {},
   "outputs": [
    {
     "name": "stdout",
     "output_type": "stream",
     "text": [
      "{}\n"
     ]
    }
   ],
   "source": [
    "# deleting a key/value pair from a dictionary \n",
    "car = {\"year\":2018}\n",
    "\n",
    "try:\n",
    "    del car[\"year\"]\n",
    "    print(car)\n",
    "except:\n",
    "    print(\"That key does not exist\")"
   ]
  },
  {
   "cell_type": "code",
   "execution_count": 13,
   "metadata": {},
   "outputs": [
    {
     "name": "stdout",
     "output_type": "stream",
     "text": [
      "name\n",
      "John\n",
      "age\n",
      "26\n"
     ]
    }
   ],
   "source": [
    "# looping over a dictionary via the keys\n",
    "\n",
    "person = {\"name\":\"John\", \"age\":26}\n",
    "\n",
    "for key in person.keys():\n",
    "    print(key)\n",
    "    print(person[key])"
   ]
  },
  {
   "cell_type": "code",
   "execution_count": 14,
   "metadata": {},
   "outputs": [
    {
     "name": "stdout",
     "output_type": "stream",
     "text": [
      "John\n",
      "26\n"
     ]
    }
   ],
   "source": [
    "#looping over a dictionary via the values\n",
    "person = {\"name\":\"John\",\"age\":26}\n",
    "\n",
    "for value in person.values():\n",
    "    print(value)"
   ]
  },
  {
   "cell_type": "code",
   "execution_count": 15,
   "metadata": {},
   "outputs": [
    {
     "name": "stdout",
     "output_type": "stream",
     "text": [
      "name:John\n",
      "age:26\n"
     ]
    }
   ],
   "source": [
    "#looping over a dictionary via the key/value pair\n",
    "\n",
    "person = {\"name\":\"John\",\"age\":26}\n",
    "\n",
    "for key,value in person.items():\n",
    "    print(\"{}:{}\".format(key,value))"
   ]
  },
  {
   "cell_type": "code",
   "execution_count": 16,
   "metadata": {},
   "outputs": [
    {
     "name": "stdout",
     "output_type": "stream",
     "text": [
      "Please enter your name: Jack Smith\n",
      "Please enter your address: 1313 mockingbird lane \n",
      "Please enter your phone number: 555-555-5555\n",
      "name:Jack Smith\n",
      "address:1313 mockingbird lane \n",
      "num:555-555-5555\n",
      "John Smith\n"
     ]
    }
   ],
   "source": [
    "#Execerise 2\n",
    "\n",
    "d = {}\n",
    "name = input(\"Please enter your name: \")\n",
    "address = input(\"Please enter your address: \")\n",
    "num = input(\"Please enter your phone number: \")\n",
    "\n",
    "d[\"name\"] = name\n",
    "d[\"address\"] = address\n",
    "d[\"num\"] = num\n",
    "\n",
    "for key,value in d.items():\n",
    "    print(\"{}:{}\\n\".format(key,value))\n",
    "    \n",
    "person = {\"name\":\"John Smith\"}\n",
    "print(person[\"name\"])"
   ]
  },
  {
   "cell_type": "markdown",
   "metadata": {},
   "source": [
    "# Tuples, Sets, Frozensets"
   ]
  },
  {
   "cell_type": "code",
   "execution_count": 17,
   "metadata": {},
   "outputs": [
    {
     "name": "stdout",
     "output_type": "stream",
     "text": [
      "<class 'tuple'> <class 'tuple'>\n"
     ]
    }
   ],
   "source": [
    "# declaring a tuple\n",
    "\n",
    "t1 = (\"hello\",2,\"hello\")\n",
    "t2 = True,1\n",
    "\n",
    "print(type(t1), type(t2))\n",
    "\n",
    "#t1[0] = 1 # will crash so I comment out"
   ]
  },
  {
   "cell_type": "code",
   "execution_count": 18,
   "metadata": {},
   "outputs": [
    {
     "name": "stdout",
     "output_type": "stream",
     "text": [
      "<class 'set'> <class 'set'>\n",
      "{2, 3, 5}\n"
     ]
    }
   ],
   "source": [
    "# declaring a set\n",
    "\n",
    "s1 = set([1,2,3,1])\n",
    "s2 = {4,4,5}\n",
    "\n",
    "print(type(s1),type(s2))\n",
    "\n",
    "s1.add(5)\n",
    "s1.remove(1)\n",
    "print(s1)"
   ]
  },
  {
   "cell_type": "code",
   "execution_count": 19,
   "metadata": {},
   "outputs": [
    {
     "name": "stdout",
     "output_type": "stream",
     "text": [
      "<class 'frozenset'>\n"
     ]
    }
   ],
   "source": [
    "# declaring a frozenset\n",
    "\n",
    "fset = frozenset([1,2,3,4])\n",
    "print(type(fset))"
   ]
  },
  {
   "cell_type": "code",
   "execution_count": 22,
   "metadata": {},
   "outputs": [
    {
     "name": "stdout",
     "output_type": "stream",
     "text": [
      "Please enter bank account number: If you are ready to end type q333-7777-4445\n",
      "Please enter bank account number: If you are ready to end type q333-7777-4445\n",
      "Please enter bank account number: If you are ready to end type q656-7754-7754\n",
      "Please enter bank account number: If you are ready to end type q888-7445-7990\n",
      "Please enter bank account number: If you are ready to end type qq\n",
      "frozenset({'656-7754-7754', '888-7445-7990', '333-7777-4445'})\n",
      "{10, 3, 4, 7}\n"
     ]
    }
   ],
   "source": [
    "# Execerises 3\n",
    "\n",
    "bank_acc_list = []\n",
    "\n",
    "while True:\n",
    "    ans = input(\"Please enter bank account number: If you are ready to end type q\").lower()\n",
    "    if ans == \"q\":\n",
    "        break\n",
    "    bank_acc_list.append(ans)\n",
    "\n",
    "frozen_set_bank_accounts = frozenset(bank_acc_list)\n",
    "print(frozen_set_bank_accounts)\n",
    "\n",
    "nums = [3,4,3,7,10]\n",
    "set_nums = set(nums)\n",
    "print(set_nums)\n"
   ]
  },
  {
   "cell_type": "markdown",
   "metadata": {},
   "source": [
    "# Reading & Writing Files "
   ]
  },
  {
   "cell_type": "code",
   "execution_count": 3,
   "metadata": {},
   "outputs": [
    {
     "name": "stdout",
     "output_type": "stream",
     "text": [
      "This is a test\n"
     ]
    }
   ],
   "source": [
    "# opening/creating and writing to a text file\n",
    "f = open(\"test.txt\",\"w+\")\n",
    "f.write(\"This is a test\")\n",
    "f.close()\n",
    "f = open(\"test.txt\",\"r\")\n",
    "data = f.read()\n",
    "f.close()\n",
    "print(data)"
   ]
  },
  {
   "cell_type": "code",
   "execution_count": 4,
   "metadata": {},
   "outputs": [],
   "source": [
    "# opening/creating and writing to a csv file\n",
    "import csv\n",
    "\n",
    "with open(\"test.csv\",mode = \"w\",newline=\"\") as f:\n",
    "    writer = csv.writer(f,delimiter = \",\")\n",
    "    writer.writerow([\"Name\",\"City\"])\n",
    "    writer.writerow([\"Craig Lou\", \"Taiwan\"])\n"
   ]
  },
  {
   "cell_type": "code",
   "execution_count": 5,
   "metadata": {},
   "outputs": [
    {
     "name": "stdout",
     "output_type": "stream",
     "text": [
      "['Name', 'City']\n",
      "['Craig Lou', 'Taiwan']\n"
     ]
    }
   ],
   "source": [
    "# reading from csv files\n",
    "\n",
    "with open(\"test.csv\",mode = \"r\") as f:\n",
    "    reader = csv.reader(f,delimiter = \",\")\n",
    "    for row in reader:\n",
    "        print(row)"
   ]
  },
  {
   "cell_type": "code",
   "execution_count": 19,
   "metadata": {},
   "outputs": [
    {
     "name": "stdout",
     "output_type": "stream",
     "text": [
      "Please enter a number: 66\n"
     ]
    }
   ],
   "source": [
    "#Execerise 4\n",
    "\n",
    "ans1 = input(\"Please enter a number: \")\n",
    "f = open(\"test2.txt\",\"w+\")\n",
    "f.write(ans1)\n",
    "f.close()\n",
    "\n",
    "',import pandas as pd\n",
    "\n",
    "data = {\n",
    "    \"name\" : [\"Dave\",\"Dennis\",\"Peter\",\"Jess\"],\n",
    "    \"language\" : [\"Python\",\"C\",\"Java\",\"Python\"]\n",
    "}\n",
    "\n",
    "\n",
    "f1 = pd.DataFrame(data,columns = list(data.keys()))\n",
    "f1.to_csv(\"test2.csv\", index = False)\n",
    "\n"
   ]
  },
  {
   "cell_type": "markdown",
   "metadata": {},
   "source": [
    "# Friday Project: Creating a User Database with CSV Files"
   ]
  },
  {
   "cell_type": "code",
   "execution_count": 24,
   "metadata": {},
   "outputs": [
    {
     "name": "stdout",
     "output_type": "stream",
     "text": [
      "Thanks for using our software! \n"
     ]
    }
   ],
   "source": [
    "import csv\n",
    "from IPython.display import clear_output\n",
    "\n",
    "# handle user registration and writing to csv\n",
    "\n",
    "def registerUser():\n",
    "    with open(\"users.csv\",mode = \"a\",newline = \"\") as f:\n",
    "        writer = csv.writer(f,delimiter=\",\")\n",
    "        print(\"To register, please enter your info: \")\n",
    "        email = input(\"E-mail: \")\n",
    "        password = input(\"Password: \")\n",
    "        password2 = input(\"Re-type password: \")\n",
    "        clear_output()\n",
    "        if password == password2:\n",
    "            writer.writerow([email, password])\n",
    "            print(\"You are now registered!\")\n",
    "        else:\n",
    "            print(\"Something went wrong. Try again.\")\n",
    "            \n",
    "# ask for user info and return true to login or false if incorrect info\n",
    "\n",
    "def loginUser():\n",
    "    print(\"To login, please enter your info: \")\n",
    "    email = input(\"E-mail: \")\n",
    "    password = input(\"Password: \")\n",
    "    clear_output()\n",
    "    try:\n",
    "        with open(\"users.csv\",mode=\"r\") as f:\n",
    "            reader = csv.reader(f,delimiter = \",\")\n",
    "            for row in reader:\n",
    "                if row == [email,password]:\n",
    "                    print(\"You are now logged in!\")\n",
    "                    return True\n",
    "            print(\"Something went wrong, try again. \")\n",
    "            return False\n",
    "    except:\n",
    "        print(\"Something went wrong, try again. \")\n",
    "        print(\"If you have not registered please register first!!\")\n",
    "        return False\n",
    "\n",
    "# variables for main loop\n",
    "\n",
    "active = True\n",
    "logged_in = False\n",
    "\n",
    "# main loop\n",
    "\n",
    "while active:\n",
    "    if logged_in:\n",
    "        print(\"1. Logout\\n2. Quit\")\n",
    "    else:\n",
    "        print(\"1. Login\\n2. Register\\n3. Quit\")\n",
    "    choice = input(\"What would you like to do? \").lower()\n",
    "    clear_output()\n",
    "    \n",
    "    if choice == \"register\" and logged_in == False:\n",
    "        registerUser()\n",
    "    elif choice == \"login\" and logged_in == False:\n",
    "        logged_in = loginUser()\n",
    "    elif choice == \"quit\":\n",
    "        active = False\n",
    "        print(\"Thanks for using our software! \")\n",
    "    elif choice == \"logout\" and logged_in == True:\n",
    "        logged_in = False\n",
    "        print(\"You are now logged out.\")\n",
    "    else:\n",
    "        print(\"Sorry, please try again!\")"
   ]
  },
  {
   "cell_type": "code",
   "execution_count": null,
   "metadata": {},
   "outputs": [],
   "source": []
  }
 ],
 "metadata": {
  "kernelspec": {
   "display_name": "Python 3",
   "language": "python",
   "name": "python3"
  },
  "language_info": {
   "codemirror_mode": {
    "name": "ipython",
    "version": 3
   },
   "file_extension": ".py",
   "mimetype": "text/x-python",
   "name": "python",
   "nbconvert_exporter": "python",
   "pygments_lexer": "ipython3",
   "version": "3.6.5"
  }
 },
 "nbformat": 4,
 "nbformat_minor": 2
}
