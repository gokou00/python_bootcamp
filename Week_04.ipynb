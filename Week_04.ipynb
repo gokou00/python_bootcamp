{
 "cells": [
  {
   "cell_type": "markdown",
   "metadata": {},
   "source": [
    "# Lists"
   ]
  },
  {
   "cell_type": "code",
   "execution_count": 1,
   "metadata": {},
   "outputs": [
    {
     "name": "stdout",
     "output_type": "stream",
     "text": [
      "[5, 10, 15.2, 20]\n"
     ]
    }
   ],
   "source": [
    "# declaring a list numbers\n",
    "nums = [5,10,15.2,20]\n",
    "print(nums)"
   ]
  },
  {
   "cell_type": "code",
   "execution_count": 2,
   "metadata": {},
   "outputs": [
    {
     "name": "stdout",
     "output_type": "stream",
     "text": [
      "10\n",
      "15.2\n"
     ]
    }
   ],
   "source": [
    "# accessing elements within a list\n",
    "print(nums[1])\n",
    "num = nums[2]\n",
    "print(num)"
   ]
  },
  {
   "cell_type": "code",
   "execution_count": 3,
   "metadata": {},
   "outputs": [
    {
     "name": "stdout",
     "output_type": "stream",
     "text": [
      "[4.3, 'word', True]\n"
     ]
    }
   ],
   "source": [
    "# declaring a list of mixed data types\n",
    "num = 4.3\n",
    "data = [num,\"word\",True]\n",
    "print(data)"
   ]
  },
  {
   "cell_type": "code",
   "execution_count": 4,
   "metadata": {},
   "outputs": [
    {
     "name": "stdout",
     "output_type": "stream",
     "text": [
      "[5, 'book', [34, 'hello'], True]\n",
      "[34, 'hello']\n"
     ]
    }
   ],
   "source": [
    "# understanding lists within lists\n",
    "data = [5,\"book\",[34,\"hello\"],True]\n",
    "print(data)\n",
    "print(data[2])"
   ]
  },
  {
   "cell_type": "code",
   "execution_count": 5,
   "metadata": {},
   "outputs": [
    {
     "name": "stdout",
     "output_type": "stream",
     "text": [
      "34\n",
      "hello\n"
     ]
    }
   ],
   "source": [
    "# using double bracket notation to access lists within lists\n",
    "print(data[2][0])\n",
    "inner_list = data[2]\n",
    "print(inner_list[1])"
   ]
  },
  {
   "cell_type": "code",
   "execution_count": 6,
   "metadata": {},
   "outputs": [
    {
     "name": "stdout",
     "output_type": "stream",
     "text": [
      "[5, 10, 15, 20]\n",
      "[100, 10, 15, 20]\n"
     ]
    }
   ],
   "source": [
    "# changin values in a list through index\n",
    "data = [5,10,15,20]\n",
    "print(data)\n",
    "data[0] = 100\n",
    "print(data)"
   ]
  },
  {
   "cell_type": "code",
   "execution_count": 7,
   "metadata": {},
   "outputs": [
    {
     "name": "stdout",
     "output_type": "stream",
     "text": [
      "a: [5, 10]\t b: [5, 10]\n",
      "Location a[0]: 1670802624\t Location b[0]: 1670802624\n",
      "a: [20, 10]\t b: [20, 10]\n"
     ]
    }
   ],
   "source": [
    "# uderstanding how lists are stored\n",
    "a = [5,10]\n",
    "b = a\n",
    "print(\"a: {}\\t b: {}\".format(a,b))\n",
    "print(\"Location a[0]: {}\\t Location b[0]: {}\".format(id(a[0]),id(b[0])))\n",
    "a[0] = 20\n",
    "print(\"a: {}\\t b: {}\".format(a,b))"
   ]
  },
  {
   "cell_type": "code",
   "execution_count": 8,
   "metadata": {},
   "outputs": [
    {
     "name": "stdout",
     "output_type": "stream",
     "text": [
      "data: [50, 10, 15, 20]\t data_copy: [5, 10, 15, 20]\n"
     ]
    }
   ],
   "source": [
    "# using [:] to copy a list\n",
    "\n",
    "data = [5,10,15,20]\n",
    "data_copy = data[:]\n",
    "data[0] = 50\n",
    "print(\"data: {}\\t data_copy: {}\".format(data,data_copy))"
   ]
  },
  {
   "cell_type": "code",
   "execution_count": 9,
   "metadata": {},
   "outputs": [
    {
     "name": "stdout",
     "output_type": "stream",
     "text": [
      "I like to play ['football', 'boxing', 'MMA']\n",
      "J,A,S,K\n"
     ]
    }
   ],
   "source": [
    "#Execerise 1\n",
    "sport = [\"football\",\"boxing\",\"MMA\"]\n",
    "print(\"I like to play {}\".format(sport))\n",
    "\n",
    "names = [\"John\",\"Abraham\",\"Sam\",\"Kelly\"]\n",
    "print(\"{},{},{},{}\".format(names[0][0],names[1][0],names[2][0],names[3][0]))"
   ]
  },
  {
   "cell_type": "markdown",
   "metadata": {},
   "source": [
    "# For Loops"
   ]
  },
  {
   "cell_type": "code",
   "execution_count": 10,
   "metadata": {},
   "outputs": [
    {
     "name": "stdout",
     "output_type": "stream",
     "text": [
      "Value: 0\n",
      "Value: 1\n",
      "Value: 2\n",
      "Value: 3\n",
      "Value: 4\n"
     ]
    }
   ],
   "source": [
    "# writing your first for loop using range\n",
    "for num in range(5):\n",
    "    print(\"Value: {}\".format(num))"
   ]
  },
  {
   "cell_type": "code",
   "execution_count": 11,
   "metadata": {},
   "outputs": [
    {
     "name": "stdout",
     "output_type": "stream",
     "text": [
      "Value: 2\n",
      "Value: 4\n",
      "Value: 6\n",
      "Value: 8\n"
     ]
    }
   ],
   "source": [
    "# providing the start, stop and step for the range function\n",
    "for num in range(2,10,2):\n",
    "    print(\"Value: {}\".format(num))"
   ]
  },
  {
   "cell_type": "code",
   "execution_count": 12,
   "metadata": {},
   "outputs": [
    {
     "name": "stdout",
     "output_type": "stream",
     "text": [
      "Value: J\n",
      "Value: o\n",
      "Value: h\n",
      "Value: n\n",
      "Value:  \n",
      "Value: S\n",
      "Value: m\n",
      "Value: i\n",
      "Value: t\n",
      "Value: h\n"
     ]
    }
   ],
   "source": [
    "# printing all characters in a name using the \"in\" keyword\n",
    "name = \"John Smith\"\n",
    "\n",
    "for letter in name:\n",
    "    print(\"Value: {}\".format(letter))"
   ]
  },
  {
   "cell_type": "code",
   "execution_count": 13,
   "metadata": {},
   "outputs": [
    {
     "name": "stdout",
     "output_type": "stream",
     "text": [
      "0\n",
      "1\n",
      "2\n",
      "4\n"
     ]
    }
   ],
   "source": [
    "# using the continue statement within a for loop\n",
    "for num in range(5):\n",
    "    if num == 3:\n",
    "        continue\n",
    "    print(num)"
   ]
  },
  {
   "cell_type": "code",
   "execution_count": 14,
   "metadata": {},
   "outputs": [
    {
     "name": "stdout",
     "output_type": "stream",
     "text": [
      "0\n",
      "1\n",
      "2\n"
     ]
    }
   ],
   "source": [
    "# breaking out of a loop using the \"break\" keyword\n",
    "\n",
    "for num in range(5):\n",
    "    if num == 3:\n",
    "        break\n",
    "    print(num)"
   ]
  },
  {
   "cell_type": "code",
   "execution_count": 15,
   "metadata": {},
   "outputs": [],
   "source": [
    "# setting a placeholder using the \"pass\" keyword\n",
    "for i in range(5):\n",
    "    # TODO: add code to print number\n",
    "    pass"
   ]
  },
  {
   "cell_type": "code",
   "execution_count": 16,
   "metadata": {},
   "outputs": [
    {
     "name": "stdout",
     "output_type": "stream",
     "text": [
      "3\n",
      "6\n",
      "9\n",
      "12\n",
      "15\n",
      "18\n",
      "21\n",
      "24\n",
      "27\n",
      "30\n",
      "33\n",
      "36\n",
      "39\n",
      "42\n",
      "45\n",
      "48\n",
      "51\n",
      "54\n",
      "57\n",
      "60\n",
      "63\n",
      "66\n",
      "69\n",
      "72\n",
      "75\n",
      "78\n",
      "81\n",
      "84\n",
      "87\n",
      "90\n",
      "93\n",
      "96\n",
      "99\n",
      "Please type in a word: Hello\n",
      "hello -> eo\n"
     ]
    }
   ],
   "source": [
    "#Execerise 2\n",
    "for x in range(1,101):\n",
    "    if x % 3 == 0:\n",
    "        print(x)\n",
    "\n",
    "vowels = \"aeiou\"\n",
    "ans = input(\"Please type in a word: \").lower()\n",
    "v_letters = \"\"\n",
    "\n",
    "for x in ans:\n",
    "    if x in vowels:\n",
    "        v_letters += x\n",
    "print(\"{} -> {}\".format(ans,v_letters))\n",
    "        "
   ]
  },
  {
   "cell_type": "markdown",
   "metadata": {},
   "source": [
    "# while loops"
   ]
  },
  {
   "cell_type": "code",
   "execution_count": 17,
   "metadata": {},
   "outputs": [
    {
     "name": "stdout",
     "output_type": "stream",
     "text": [
      "10\n",
      "9\n",
      "8\n",
      "7\n",
      "6\n",
      "5\n",
      "4\n",
      "3\n",
      "2\n",
      "1\n"
     ]
    }
   ],
   "source": [
    "# writing your first while loop\n",
    "health = 10\n",
    "\n",
    "while health > 0:\n",
    "    print(health)\n",
    "    health -= 1"
   ]
  },
  {
   "cell_type": "code",
   "execution_count": 18,
   "metadata": {},
   "outputs": [
    {
     "name": "stdout",
     "output_type": "stream",
     "text": [
      "0 0\n",
      "0 1\n",
      "0 2\n",
      "1 0\n",
      "1 1\n",
      "1 2\n"
     ]
    }
   ],
   "source": [
    "#using two or more loops together is called a nested loop\n",
    "for i in range(2):\n",
    "    for j in range(3):\n",
    "        print(i,j)"
   ]
  },
  {
   "cell_type": "code",
   "execution_count": 19,
   "metadata": {},
   "outputs": [
    {
     "name": "stdout",
     "output_type": "stream",
     "text": [
      "Please enter a word: (if you want to quit type quit)Hello\n",
      "hello\n",
      "Please enter a word: (if you want to quit type quit)quit\n",
      "quit\n",
      "0\n",
      "1\n",
      "2\n"
     ]
    }
   ],
   "source": [
    "#Execerise 3\n",
    "\n",
    "ans = \"\"\n",
    "while ans != \"quit\": \n",
    "    ans = input(\"Please enter a word: (if you want to quit type quit)\").lower()\n",
    "    print(ans)\n",
    "\n",
    "play = True\n",
    "\n",
    "while play:\n",
    "    for i in range(6):\n",
    "        if i == 3:\n",
    "            play = False\n",
    "            break\n",
    "        print(i)"
   ]
  },
  {
   "cell_type": "markdown",
   "metadata": {},
   "source": [
    "# Working with Lists"
   ]
  },
  {
   "cell_type": "code",
   "execution_count": 1,
   "metadata": {},
   "outputs": [
    {
     "name": "stdout",
     "output_type": "stream",
     "text": [
      "3\n"
     ]
    }
   ],
   "source": [
    "# checking the number of items within a list \n",
    "nums = [5,10,5]\n",
    "length = len(nums)\n",
    "print(length)"
   ]
  },
  {
   "cell_type": "code",
   "execution_count": 2,
   "metadata": {},
   "outputs": [
    {
     "name": "stdout",
     "output_type": "stream",
     "text": [
      "[10, 5]\n",
      "[5, 10]\n",
      "[5, 5]\n",
      "[10, 5]\n"
     ]
    }
   ],
   "source": [
    "# accessing specific items of a list with slices \n",
    "print(nums[1:3])\n",
    "print(nums[:2])\n",
    "print(nums[::2])\n",
    "print(nums[-2:])"
   ]
  },
  {
   "cell_type": "code",
   "execution_count": 3,
   "metadata": {},
   "outputs": [
    {
     "name": "stdout",
     "output_type": "stream",
     "text": [
      "[10, 50, 5]\n"
     ]
    }
   ],
   "source": [
    "# adding an item to the back of a list using append\n",
    "nums = [10,50]\n",
    "nums.append(5)\n",
    "print(nums)"
   ]
  },
  {
   "cell_type": "code",
   "execution_count": 5,
   "metadata": {},
   "outputs": [
    {
     "name": "stdout",
     "output_type": "stream",
     "text": [
      "['ball', 'base']\n",
      "['glove', 'ball', 'base']\n"
     ]
    }
   ],
   "source": [
    "# adding a value to the beginning of the list\n",
    "words = [\"ball\",\"base\"]\n",
    "print(words)\n",
    "words.insert(0,\"glove\")\n",
    "print(words)"
   ]
  },
  {
   "cell_type": "code",
   "execution_count": 6,
   "metadata": {},
   "outputs": [
    {
     "name": "stdout",
     "output_type": "stream",
     "text": [
      "5 \n",
      " ['ball']\n"
     ]
    }
   ],
   "source": [
    "# using pop to removve items and saving to a variable to use later\n",
    "\n",
    "items = [5,\"ball\",True]\n",
    "items.pop()\n",
    "removed_item = items.pop(0)\n",
    "print(removed_item,\"\\n\",items)"
   ]
  },
  {
   "cell_type": "code",
   "execution_count": 7,
   "metadata": {},
   "outputs": [
    {
     "name": "stdout",
     "output_type": "stream",
     "text": [
      "That item does not exist in the list\n",
      "['baseball', 'football', 'hockey']\n"
     ]
    }
   ],
   "source": [
    "# using the remove method with a try and except\n",
    "sports = [\"baseball\",\"soccer\",\"football\",\"hockey\"]\n",
    "sports.remove(\"soccer\")\n",
    "\n",
    "print(\"That item does not exist in the list\")\n",
    "print(sports)"
   ]
  },
  {
   "cell_type": "code",
   "execution_count": 8,
   "metadata": {},
   "outputs": [
    {
     "name": "stdout",
     "output_type": "stream",
     "text": [
      "3\n",
      "9\n",
      "17\n"
     ]
    }
   ],
   "source": [
    "# using min, max, and sum\n",
    "nums = [5,3,9]\n",
    "print(min(nums))\n",
    "print(max(nums))\n",
    "print(sum(nums))"
   ]
  },
  {
   "cell_type": "code",
   "execution_count": 9,
   "metadata": {},
   "outputs": [
    {
     "name": "stdout",
     "output_type": "stream",
     "text": [
      "[5, 8, 0, 2] [0, 2, 5, 8]\n"
     ]
    }
   ],
   "source": [
    "# using sorted on lists for numerial and alphabetical\n",
    "nums = [5,8,0,2]\n",
    "sorted_nums = sorted(nums)\n",
    "print(nums,sorted_nums)"
   ]
  },
  {
   "cell_type": "code",
   "execution_count": 10,
   "metadata": {},
   "outputs": [
    {
     "name": "stdout",
     "output_type": "stream",
     "text": [
      "[0, 3, 5, 8]\n"
     ]
    }
   ],
   "source": [
    "# sorting a list with .sort() in-place\n",
    "nums = [5,0,8,3]\n",
    "nums.sort()\n",
    "print(nums)"
   ]
  },
  {
   "cell_type": "code",
   "execution_count": 11,
   "metadata": {},
   "outputs": [
    {
     "name": "stdout",
     "output_type": "stream",
     "text": [
      "found\n",
      "not found\n"
     ]
    }
   ],
   "source": [
    "#using conditionals statements on a list\n",
    "\n",
    "names = [\"Jack\",\"Robert\",\"Mary\"]\n",
    "\n",
    "if \"Mary\" in names:\n",
    "    print(\"found\")\n",
    "if \"Jimmy\" not in names:\n",
    "    print(\"not found\")"
   ]
  },
  {
   "cell_type": "code",
   "execution_count": 12,
   "metadata": {},
   "outputs": [
    {
     "name": "stdout",
     "output_type": "stream",
     "text": [
      "is empty\n"
     ]
    }
   ],
   "source": [
    "#using conditional to see if a list is empty\n",
    "nums = []\n",
    "\n",
    "if not nums:\n",
    "    print(\"is empty\")"
   ]
  },
  {
   "cell_type": "code",
   "execution_count": 13,
   "metadata": {},
   "outputs": [
    {
     "name": "stdout",
     "output_type": "stream",
     "text": [
      "Baseball\n",
      "Hockey\n",
      "Football\n",
      "Basketball\n"
     ]
    }
   ],
   "source": [
    "# using a for loop to print all items in a list\n",
    "sports = [\"Baseball\",\"Hockey\",\"Football\",\"Basketball\"]\n",
    "for sport in sports:\n",
    "    print(sport)"
   ]
  },
  {
   "cell_type": "code",
   "execution_count": 14,
   "metadata": {},
   "outputs": [
    {
     "name": "stdout",
     "output_type": "stream",
     "text": [
      "['Jack', 'Rob', 'Robert']\n"
     ]
    }
   ],
   "source": [
    "#using the while loop to remove a certain value\n",
    "names = [\"Bob\",\"Jack\",\"Rob\",\"Bob\",\"Robert\"]\n",
    "while \"Bob\" in names:\n",
    "    names.remove(\"Bob\")\n",
    "print(names)"
   ]
  },
  {
   "cell_type": "code",
   "execution_count": 17,
   "metadata": {},
   "outputs": [
    {
     "name": "stdout",
     "output_type": "stream",
     "text": [
      "['Bob', 'Kenny', 'Amanda']\n",
      "Please enter a word: (To quit type in quit)Hello\n",
      "Please enter a word: (To quit type in quit)Bye\n",
      "Please enter a word: (To quit type in quit)quit\n",
      "['Hello', 'Bye']\n"
     ]
    }
   ],
   "source": [
    "#Execerise 4\n",
    "names = [\"Bob\",\"Kenny\",\"Amanda\",\"Bob\",\"Kenny\"]\n",
    "final_names = []\n",
    "s = set()\n",
    "for x in names:\n",
    "    if x not in s:\n",
    "        final_names.append(x)\n",
    "        s.add(x)\n",
    "print(final_names)\n",
    "\n",
    "ans = \"\"\n",
    "arr = []\n",
    "while True:\n",
    "    ans = input(\"Please enter a word: (To quit type in quit)\")\n",
    "    if ans.lower() == \"quit\":\n",
    "        break\n",
    "    arr.append(ans)\n",
    "\n",
    "print(arr)\n",
    "    "
   ]
  },
  {
   "cell_type": "markdown",
   "metadata": {},
   "source": [
    "# Friday Project: Creating Hangman"
   ]
  },
  {
   "cell_type": "code",
   "execution_count": 9,
   "metadata": {},
   "outputs": [
    {
     "name": "stdout",
     "output_type": "stream",
     "text": [
      "echolocating\n",
      "The word so far ['_', '_', '_', '_', '_', '_', '_', '_', '_', '_', '_', '_']\n",
      "Please enter a letter or quit to quit the game: e\n",
      "The word so far ['e', '_', '_', '_', '_', '_', '_', '_', '_', '_', '_', '_']\n",
      "Please enter a letter or quit to quit the game: e\n",
      "The letter e has already been guessed and in the secret word\n",
      "The word so far ['e', '_', '_', '_', '_', '_', '_', '_', '_', '_', '_', '_']\n",
      "Please enter a letter or quit to quit the game: c\n",
      "The word so far ['e', 'c', '_', '_', '_', '_', 'c', '_', '_', '_', '_', '_']\n",
      "Please enter a letter or quit to quit the game: o\n",
      "The word so far ['e', 'c', '_', 'o', '_', 'o', 'c', '_', '_', '_', '_', '_']\n",
      "Please enter a letter or quit to quit the game: l\n",
      "The word so far ['e', 'c', '_', 'o', 'l', 'o', 'c', '_', '_', '_', '_', '_']\n",
      "Please enter a letter or quit to quit the game: o\n",
      "The letter o has already been guessed and in the secret word\n",
      "The word so far ['e', 'c', '_', 'o', 'l', 'o', 'c', '_', '_', '_', '_', '_']\n",
      "Please enter a letter or quit to quit the game: h\n",
      "The word so far ['e', 'c', 'h', 'o', 'l', 'o', 'c', '_', '_', '_', '_', '_']\n",
      "Please enter a letter or quit to quit the game: p\n",
      "Letter p not in word\n",
      "Lives remaining 12\n",
      "The word so far ['e', 'c', 'h', 'o', 'l', 'o', 'c', '_', '_', '_', '_', '_']\n",
      "Please enter a letter or quit to quit the game: a\n",
      "The word so far ['e', 'c', 'h', 'o', 'l', 'o', 'c', 'a', '_', '_', '_', '_']\n",
      "Please enter a letter or quit to quit the game: i\n",
      "The word so far ['e', 'c', 'h', 'o', 'l', 'o', 'c', 'a', '_', 'i', '_', '_']\n",
      "Please enter a letter or quit to quit the game: n\n",
      "The word so far ['e', 'c', 'h', 'o', 'l', 'o', 'c', 'a', '_', 'i', 'n', '_']\n",
      "Please enter a letter or quit to quit the game: c\n",
      "The letter c has already been guessed and in the secret word\n",
      "The word so far ['e', 'c', 'h', 'o', 'l', 'o', 'c', 'a', '_', 'i', 'n', '_']\n",
      "Please enter a letter or quit to quit the game: t\n",
      "The word so far ['e', 'c', 'h', 'o', 'l', 'o', 'c', 'a', 't', 'i', 'n', '_']\n",
      "Please enter a letter or quit to quit the game: g\n",
      "Good job you guessed the word echolocating\n",
      "You had 11 lives left\n",
      "Game Over\n"
     ]
    }
   ],
   "source": [
    "#version one\n",
    "import random\n",
    "wordlist = [\"Ear\", \"Eat\", \"Echolocating\", \"Ecological\", \"Elusive\", \"Endangered\", \"Environment\", \"Exposure\", \"Eyes\",\"Features\", \"Feeding\", \"Fertilizer\", \"Fingers\", \"Fission\", \"Flying\", \"Forage\", \"Forelimbs\", \"Frugivores\", \"Fruit\", \"Fungus\", \"Furry\", \"Fusion\"]\n",
    "\n",
    "word_choice = random.choice(wordlist).lower()\n",
    "\n",
    "print(word_choice)\n",
    "guesses = [\"_\"] * len(word_choice)\n",
    "\n",
    "lives = len(word_choice)\n",
    "\n",
    "while True:\n",
    "    print(\"The word so far {}\".format(guesses))\n",
    "    letter_guess = input(\"Please enter a letter or quit to quit the game: \").lower()\n",
    "    \n",
    "    if letter_guess == \"quit\":\n",
    "        print(\"The remaining word {} and Lives {}\".format(guesses,lives))\n",
    "        print(\"Thank you for playing\")\n",
    "        break\n",
    "    elif letter_guess in guesses:\n",
    "        print(\"The letter {} has already been guessed and in the secret word\".format(letter_guess))\n",
    "        continue\n",
    "    elif letter_guess in word_choice:\n",
    "        for i,x in enumerate(word_choice):\n",
    "            if x == letter_guess:\n",
    "                guesses[i] = x\n",
    "        if guesses == list(word_choice):\n",
    "            print(\"Good job you guessed the word {}\".format(word_choice))\n",
    "            print(\"You had {} lives left\".format(lives))\n",
    "            print(\"Game Over\")\n",
    "            break\n",
    "    \n",
    "    else:\n",
    "        print(\"Letter {} not in word\".format(letter_guess))\n",
    "        print(\"Lives remaining {}\".format(lives))\n",
    "        lives -= 1\n",
    "    \n",
    "    if lives == 0:\n",
    "        print(\"The remaining word {}\".format(guesses))\n",
    "        print(\"Thanks for playing game over\")\n",
    "        break\n",
    "\n"
   ]
  },
  {
   "cell_type": "code",
   "execution_count": 10,
   "metadata": {},
   "outputs": [
    {
     "name": "stdout",
     "output_type": "stream",
     "text": [
      "fusion\n",
      "Please type in a word: type q to quit fusion\n",
      "You win!\n"
     ]
    }
   ],
   "source": [
    "#version two\n",
    "import random\n",
    "\n",
    "wordlist = [\"Ear\", \"Eat\", \"Echolocating\", \"Ecological\", \"Elusive\", \"Endangered\", \"Environment\", \"Exposure\", \"Eyes\",\"Features\", \"Feeding\", \"Fertilizer\", \"Fingers\", \"Fission\", \"Flying\", \"Forage\", \"Forelimbs\", \"Frugivores\", \"Fruit\", \"Fungus\", \"Furry\", \"Fusion\"]\n",
    "word_choice = random.choice(wordlist).lower()\n",
    "lives = 3\n",
    "print(word_choice)\n",
    "\n",
    "while lives != 0:\n",
    "    #print(\"Guess the following word {}\".format())\n",
    "    player_guess = input(\"Please type in a word: type q to quit \").lower()\n",
    "    if player_guess == \"q\":\n",
    "        print(\"Goodbye\")\n",
    "        break\n",
    "    found = False\n",
    "   \n",
    "    matching_letters = set(word_choice) & set(player_guess)\n",
    "    \n",
    "    match = \"\"\n",
    "    \n",
    "    for x in word_choice:\n",
    "        if x in matching_letters:\n",
    "            match += x\n",
    "        else:\n",
    "            match += \"_\"\n",
    "        \n",
    "\n",
    "\n",
    "    if match == word_choice:\n",
    "        print(\"You win!\")\n",
    "        break\n",
    "        \n",
    "    if match:\n",
    "        print(list(match))\n",
    "    else:\n",
    "        lives -=1\n",
    "    if lives == 0:\n",
    "        print(\"You lose try again!\")\n",
    "        break\n",
    "\n",
    "\n",
    "           \n",
    "\n",
    "        \n",
    "        \n",
    "\n"
   ]
  },
  {
   "cell_type": "code",
   "execution_count": null,
   "metadata": {},
   "outputs": [],
   "source": []
  }
 ],
 "metadata": {
  "kernelspec": {
   "display_name": "Python 3",
   "language": "python",
   "name": "python3"
  },
  "language_info": {
   "codemirror_mode": {
    "name": "ipython",
    "version": 3
   },
   "file_extension": ".py",
   "mimetype": "text/x-python",
   "name": "python",
   "nbconvert_exporter": "python",
   "pygments_lexer": "ipython3",
   "version": "3.6.5"
  }
 },
 "nbformat": 4,
 "nbformat_minor": 2
}
